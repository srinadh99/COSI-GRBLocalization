{
 "cells": [
  {
   "cell_type": "code",
   "execution_count": 1,
   "id": "51879819-7876-4370-aa3b-0bb61e4c7ef4",
   "metadata": {
    "tags": []
   },
   "outputs": [],
   "source": [
    "# ===================================================================\n",
    "#      0. Import all the desired libraries\n",
    "# ===================================================================\n",
    "\n",
    "import numpy as np\n",
    "import torch\n",
    "import copy\n",
    "import time\n",
    "import torch.nn as nn\n",
    "import torch.optim as optim\n",
    "from torch.utils.data import Dataset, DataLoader\n",
    "from sklearn.model_selection import train_test_split\n",
    "from sklearn.preprocessing import StandardScaler\n",
    "from tqdm import tqdm\n",
    "import matplotlib.pyplot as plt\n",
    "import healpy as hp\n"
   ]
  },
  {
   "cell_type": "code",
   "execution_count": 2,
   "id": "b5683e05-a37b-4349-9136-c1a1f4f21344",
   "metadata": {
    "tags": []
   },
   "outputs": [],
   "source": [
    "# ===================================================================\n",
    "#      1. REUSABLE FUNCTIONS (Data preprocessing and evaluation logic)\n",
    "# ===================================================================\n",
    "\n",
    "def transform_event_features(event_sets, angular_feature_indices):\n",
    "    transformed_event_sets = []\n",
    "    if not angular_feature_indices: return [events.copy() for events in event_sets]\n",
    "    for events in event_sets: # Removed tqdm for cleaner integration\n",
    "        if events.shape[0] == 0:\n",
    "            transformed_event_sets.append(events)\n",
    "            continue\n",
    "        non_angular_indices = [i for i in range(events.shape[1]) if i not in angular_feature_indices]\n",
    "        new_feature_parts = [events[:, non_angular_indices]]\n",
    "        for idx in angular_feature_indices:\n",
    "            angles_rad = np.deg2rad(events[:, idx])\n",
    "            new_feature_parts.extend([np.cos(angles_rad)[:, np.newaxis], np.sin(angles_rad)[:, np.newaxis]])\n",
    "        transformed_events = np.concatenate(new_feature_parts, axis=1)\n",
    "        transformed_event_sets.append(transformed_events)\n",
    "    return transformed_event_sets\n",
    "\n",
    "def convert_to_cartesian(coords_deg):\n",
    "    lon_deg, lat_deg = coords_deg[:, 0], coords_deg[:, 1]\n",
    "    lon_rad, lat_rad = np.deg2rad(lon_deg), np.deg2rad(lat_deg)\n",
    "    x, y, z = np.cos(lon_rad) * np.cos(lat_rad), np.sin(lon_rad) * np.cos(lat_rad), np.sin(lat_rad)\n",
    "    return np.stack([x, y, z], axis=1)\n",
    "\n",
    "def convert_cartesian_to_lon_lat(cartesian_coords):\n",
    "    x, y, z = cartesian_coords[:, 0], cartesian_coords[:, 1], cartesian_coords[:, 2]\n",
    "    norms = np.sqrt(x**2 + y**2 + z**2)\n",
    "    norms[norms == 0] = 1\n",
    "    x, y, z = x / norms, y / norms, z / norms\n",
    "    lat_rad, lon_rad = np.arcsin(z), np.arctan2(y, x)\n",
    "    lat_deg, lon_deg = np.rad2deg(lat_rad), np.rad2deg(lon_rad)\n",
    "    lon_deg = (lon_deg + 360) % 360\n",
    "    return np.stack([lon_deg, lat_deg], axis=1)\n",
    "\n",
    "def calculate_angular_error(y_true_cartesian, y_pred_cartesian):\n",
    "    pred_norms = np.linalg.norm(y_pred_cartesian, axis=1, keepdims=True)\n",
    "    pred_norms[pred_norms == 0] = 1\n",
    "    y_pred_normalized = y_pred_cartesian / pred_norms\n",
    "    dot_product = np.clip(np.sum(y_true_cartesian * y_pred_normalized, axis=1), -1.0, 1.0)\n",
    "    angle_rad = np.arccos(dot_product)\n",
    "    return np.rad2deg(angle_rad)\n"
   ]
  },
  {
   "cell_type": "code",
   "execution_count": 3,
   "id": "2f29a216-a4bd-44a0-a469-856fc30aa6af",
   "metadata": {
    "tags": []
   },
   "outputs": [],
   "source": [
    "# ===================================================================\n",
    "#                      2. DEEP SETS MODEL DEFINITION\n",
    "# ===================================================================\n",
    "\n",
    "class DeepSet(nn.Module):\n",
    "    def __init__(self, input_dim, phi_hidden_dims, latent_dim, rho_hidden_dims, agg_type='sum'):\n",
    "        super(DeepSet, self).__init__()\n",
    "        \n",
    "        if agg_type not in ['sum', 'mean', 'max']:\n",
    "            raise ValueError(\"agg_type must be one of 'sum', 'mean', or 'max'\")\n",
    "        self.agg_type = agg_type\n",
    "        \n",
    "        phi_layers = [nn.Linear(input_dim, phi_hidden_dims[0]), nn.ReLU()]\n",
    "        \n",
    "        for i in range(len(phi_hidden_dims) - 1):\n",
    "            phi_layers.extend([nn.Linear(phi_hidden_dims[i], phi_hidden_dims[i+1]), nn.ReLU()])\n",
    "        phi_layers.append(nn.Linear(phi_hidden_dims[-1], latent_dim))\n",
    "        self.phi = nn.Sequential(*phi_layers)\n",
    "        \n",
    "        rho_layers = [nn.Linear(latent_dim, rho_hidden_dims[0]), nn.ReLU()]\n",
    "        \n",
    "        for i in range(len(rho_hidden_dims) - 1):\n",
    "            rho_layers.extend([nn.Linear(rho_hidden_dims[i], rho_hidden_dims[i+1]), nn.ReLU()])\n",
    "        rho_layers.append(nn.Linear(rho_hidden_dims[-1], 3))\n",
    "        self.rho = nn.Sequential(*rho_layers)\n",
    "\n",
    "    def forward(self, x_list):\n",
    "        batch_representations = []\n",
    "        \n",
    "        for event_set in x_list:\n",
    "            if event_set.numel() == 0:\n",
    "                aggregated_phi = torch.zeros(self.rho[0].in_features, device=event_set.device)\n",
    "            else:\n",
    "                phi_output = self.phi(event_set)\n",
    "                if self.agg_type == 'sum':\n",
    "                    aggregated_phi = torch.sum(phi_output, dim=0)\n",
    "                elif self.agg_type == 'mean':\n",
    "                    aggregated_phi = torch.mean(phi_output, dim=0)\n",
    "                elif self.agg_type == 'max':\n",
    "                    aggregated_phi = torch.max(phi_output, dim=0)[0]\n",
    "            batch_representations.append(aggregated_phi)\n",
    "        \n",
    "        aggregated_batch = torch.stack(batch_representations)\n",
    "        output = self.rho(aggregated_batch)\n",
    "        output = output / torch.norm(output, p=2, dim=1, keepdim=True)\n",
    "        return output\n"
   ]
  },
  {
   "cell_type": "code",
   "execution_count": 4,
   "id": "eafcfbcb-c178-4b01-8afd-4d7efa6d74b1",
   "metadata": {
    "tags": []
   },
   "outputs": [],
   "source": [
    "# ===================================================================\n",
    "#                   3. CUSTOM DATASET AND DATALOADER\n",
    "# ===================================================================\n",
    "\n",
    "class ComptonDataset(Dataset):\n",
    "    def __init__(self, x_events, y_targets, scaler=None):\n",
    "        self.x_events = x_events\n",
    "        self.y_targets = y_targets\n",
    "        self.scaler = scaler\n",
    "\n",
    "    def __len__(self):\n",
    "        return len(self.x_events)\n",
    "\n",
    "    def __getitem__(self, idx):\n",
    "        events = self.x_events[idx]\n",
    "        target = self.y_targets[idx]\n",
    "        \n",
    "        # Apply scaling on the fly\n",
    "        if self.scaler is not None and events.shape[0] > 0:\n",
    "            events = self.scaler.transform(events)\n",
    "            \n",
    "        return torch.FloatTensor(events), torch.FloatTensor(target)\n",
    "\n",
    "def collate_fn(batch):\n",
    "    \"\"\"\n",
    "    Custom collate function to handle variable-sized event sets.\n",
    "    This is CRITICAL for the DataLoader.\n",
    "    \"\"\"\n",
    "    events_list = [item[0] for item in batch]\n",
    "    targets = [item[1] for item in batch]\n",
    "    \n",
    "    # Targets are fixed-size, so we can stack them into a single tensor\n",
    "    targets_stacked = torch.stack(targets)\n",
    "    \n",
    "    return events_list, targets_stacked\n"
   ]
  },
  {
   "cell_type": "code",
   "execution_count": 5,
   "id": "c168459f-6b77-47aa-9549-74f62668fe12",
   "metadata": {
    "tags": []
   },
   "outputs": [
    {
     "name": "stdout",
     "output_type": "stream",
     "text": [
      "--- 1: Loading and Preprocessing Data ---\n",
      "\n",
      "--- 2: Creating Data Splits and Scaler ---\n",
      "\n",
      "--- 3: Setting up Datasets and DataLoaders ---\n",
      "\n",
      "\n",
      "========================= TRAINING MODEL WITH 'SUM' AGGREGATION =========================\n",
      "\n",
      "--- 4: Initializing Model (sum) and Training Components ---\n",
      "Using device: cuda:0\n",
      "\n",
      "--- 5: Starting Training with Validation ---\n"
     ]
    },
    {
     "name": "stderr",
     "output_type": "stream",
     "text": [
      "                                                                    \r"
     ]
    },
    {
     "name": "stdout",
     "output_type": "stream",
     "text": [
      "Epoch 1/100 | Train Loss: 0.666307 | Val Loss: 0.408696\n"
     ]
    },
    {
     "name": "stderr",
     "output_type": "stream",
     "text": [
      "                                                                    \r"
     ]
    },
    {
     "name": "stdout",
     "output_type": "stream",
     "text": [
      "Epoch 2/100 | Train Loss: 0.264377 | Val Loss: 0.140452\n"
     ]
    },
    {
     "name": "stderr",
     "output_type": "stream",
     "text": [
      "                                                                    \r"
     ]
    },
    {
     "name": "stdout",
     "output_type": "stream",
     "text": [
      "Epoch 3/100 | Train Loss: 0.074842 | Val Loss: 0.052345\n"
     ]
    },
    {
     "name": "stderr",
     "output_type": "stream",
     "text": [
      "                                                                    \r"
     ]
    },
    {
     "name": "stdout",
     "output_type": "stream",
     "text": [
      "Epoch 4/100 | Train Loss: 0.048391 | Val Loss: 0.035299\n"
     ]
    },
    {
     "name": "stderr",
     "output_type": "stream",
     "text": [
      "                                                                    \r"
     ]
    },
    {
     "name": "stdout",
     "output_type": "stream",
     "text": [
      "Epoch 5/100 | Train Loss: 0.038289 | Val Loss: 0.027795\n"
     ]
    },
    {
     "name": "stderr",
     "output_type": "stream",
     "text": [
      "                                                                    \r"
     ]
    },
    {
     "name": "stdout",
     "output_type": "stream",
     "text": [
      "Epoch 6/100 | Train Loss: 0.029460 | Val Loss: 0.032223\n"
     ]
    },
    {
     "name": "stderr",
     "output_type": "stream",
     "text": [
      "                                                                    \r"
     ]
    },
    {
     "name": "stdout",
     "output_type": "stream",
     "text": [
      "Epoch 7/100 | Train Loss: 0.025755 | Val Loss: 0.031458\n"
     ]
    },
    {
     "name": "stderr",
     "output_type": "stream",
     "text": [
      "                                                                    \r"
     ]
    },
    {
     "name": "stdout",
     "output_type": "stream",
     "text": [
      "Epoch 8/100 | Train Loss: 0.032262 | Val Loss: 0.027974\n"
     ]
    },
    {
     "name": "stderr",
     "output_type": "stream",
     "text": [
      "                                                                    \r"
     ]
    },
    {
     "name": "stdout",
     "output_type": "stream",
     "text": [
      "Epoch 9/100 | Train Loss: 0.029909 | Val Loss: 0.033707\n"
     ]
    },
    {
     "name": "stderr",
     "output_type": "stream",
     "text": [
      "                                                                     \r"
     ]
    },
    {
     "name": "stdout",
     "output_type": "stream",
     "text": [
      "Epoch 10/100 | Train Loss: 0.021534 | Val Loss: 0.022396\n"
     ]
    },
    {
     "name": "stderr",
     "output_type": "stream",
     "text": [
      "                                                                     \r"
     ]
    },
    {
     "name": "stdout",
     "output_type": "stream",
     "text": [
      "Epoch 11/100 | Train Loss: 0.023207 | Val Loss: 0.020797\n"
     ]
    },
    {
     "name": "stderr",
     "output_type": "stream",
     "text": [
      "                                                                     \r"
     ]
    },
    {
     "name": "stdout",
     "output_type": "stream",
     "text": [
      "Epoch 12/100 | Train Loss: 0.021170 | Val Loss: 0.019742\n"
     ]
    },
    {
     "name": "stderr",
     "output_type": "stream",
     "text": [
      "                                                                     \r"
     ]
    },
    {
     "name": "stdout",
     "output_type": "stream",
     "text": [
      "Epoch 13/100 | Train Loss: 0.018435 | Val Loss: 0.027923\n"
     ]
    },
    {
     "name": "stderr",
     "output_type": "stream",
     "text": [
      "                                                                     \r"
     ]
    },
    {
     "name": "stdout",
     "output_type": "stream",
     "text": [
      "Epoch 14/100 | Train Loss: 0.018890 | Val Loss: 0.022737\n"
     ]
    },
    {
     "name": "stderr",
     "output_type": "stream",
     "text": [
      "                                                                     \r"
     ]
    },
    {
     "name": "stdout",
     "output_type": "stream",
     "text": [
      "Epoch 15/100 | Train Loss: 0.021126 | Val Loss: 0.019116\n"
     ]
    },
    {
     "name": "stderr",
     "output_type": "stream",
     "text": [
      "                                                                     \r"
     ]
    },
    {
     "name": "stdout",
     "output_type": "stream",
     "text": [
      "Epoch 16/100 | Train Loss: 0.018646 | Val Loss: 0.023366\n"
     ]
    },
    {
     "name": "stderr",
     "output_type": "stream",
     "text": [
      "                                                                     \r"
     ]
    },
    {
     "name": "stdout",
     "output_type": "stream",
     "text": [
      "Epoch 17/100 | Train Loss: 0.019401 | Val Loss: 0.020181\n"
     ]
    },
    {
     "name": "stderr",
     "output_type": "stream",
     "text": [
      "                                                                     \r"
     ]
    },
    {
     "name": "stdout",
     "output_type": "stream",
     "text": [
      "Epoch 18/100 | Train Loss: 0.023348 | Val Loss: 0.020856\n"
     ]
    },
    {
     "name": "stderr",
     "output_type": "stream",
     "text": [
      "                                                                     \r"
     ]
    },
    {
     "name": "stdout",
     "output_type": "stream",
     "text": [
      "Epoch 19/100 | Train Loss: 0.016611 | Val Loss: 0.015209\n"
     ]
    },
    {
     "name": "stderr",
     "output_type": "stream",
     "text": [
      "                                                                     \r"
     ]
    },
    {
     "name": "stdout",
     "output_type": "stream",
     "text": [
      "Epoch 20/100 | Train Loss: 0.016963 | Val Loss: 0.014972\n"
     ]
    },
    {
     "name": "stderr",
     "output_type": "stream",
     "text": [
      "                                                                     \r"
     ]
    },
    {
     "name": "stdout",
     "output_type": "stream",
     "text": [
      "Epoch 21/100 | Train Loss: 0.016528 | Val Loss: 0.015772\n"
     ]
    },
    {
     "name": "stderr",
     "output_type": "stream",
     "text": [
      "                                                                     \r"
     ]
    },
    {
     "name": "stdout",
     "output_type": "stream",
     "text": [
      "Epoch 22/100 | Train Loss: 0.019088 | Val Loss: 0.015044\n"
     ]
    },
    {
     "name": "stderr",
     "output_type": "stream",
     "text": [
      "                                                                     \r"
     ]
    },
    {
     "name": "stdout",
     "output_type": "stream",
     "text": [
      "Epoch 23/100 | Train Loss: 0.014332 | Val Loss: 0.014580\n"
     ]
    },
    {
     "name": "stderr",
     "output_type": "stream",
     "text": [
      "                                                                     \r"
     ]
    },
    {
     "name": "stdout",
     "output_type": "stream",
     "text": [
      "Epoch 24/100 | Train Loss: 0.014082 | Val Loss: 0.015496\n"
     ]
    },
    {
     "name": "stderr",
     "output_type": "stream",
     "text": [
      "                                                                     \r"
     ]
    },
    {
     "name": "stdout",
     "output_type": "stream",
     "text": [
      "Epoch 25/100 | Train Loss: 0.014114 | Val Loss: 0.020612\n"
     ]
    },
    {
     "name": "stderr",
     "output_type": "stream",
     "text": [
      "                                                                     \r"
     ]
    },
    {
     "name": "stdout",
     "output_type": "stream",
     "text": [
      "Epoch 26/100 | Train Loss: 0.016268 | Val Loss: 0.016044\n"
     ]
    },
    {
     "name": "stderr",
     "output_type": "stream",
     "text": [
      "                                                                     \r"
     ]
    },
    {
     "name": "stdout",
     "output_type": "stream",
     "text": [
      "Epoch 27/100 | Train Loss: 0.013933 | Val Loss: 0.015800\n"
     ]
    },
    {
     "name": "stderr",
     "output_type": "stream",
     "text": [
      "                                                                     \r"
     ]
    },
    {
     "name": "stdout",
     "output_type": "stream",
     "text": [
      "Epoch 28/100 | Train Loss: 0.013900 | Val Loss: 0.013326\n"
     ]
    },
    {
     "name": "stderr",
     "output_type": "stream",
     "text": [
      "                                                                     \r"
     ]
    },
    {
     "name": "stdout",
     "output_type": "stream",
     "text": [
      "Epoch 29/100 | Train Loss: 0.014892 | Val Loss: 0.020087\n"
     ]
    },
    {
     "name": "stderr",
     "output_type": "stream",
     "text": [
      "                                                                     \r"
     ]
    },
    {
     "name": "stdout",
     "output_type": "stream",
     "text": [
      "Epoch 30/100 | Train Loss: 0.014588 | Val Loss: 0.014062\n"
     ]
    },
    {
     "name": "stderr",
     "output_type": "stream",
     "text": [
      "                                                                     \r"
     ]
    },
    {
     "name": "stdout",
     "output_type": "stream",
     "text": [
      "Epoch 31/100 | Train Loss: 0.014368 | Val Loss: 0.012719\n"
     ]
    },
    {
     "name": "stderr",
     "output_type": "stream",
     "text": [
      "                                                                     \r"
     ]
    },
    {
     "name": "stdout",
     "output_type": "stream",
     "text": [
      "Epoch 32/100 | Train Loss: 0.014443 | Val Loss: 0.014514\n"
     ]
    },
    {
     "name": "stderr",
     "output_type": "stream",
     "text": [
      "                                                                     \r"
     ]
    },
    {
     "name": "stdout",
     "output_type": "stream",
     "text": [
      "Epoch 33/100 | Train Loss: 0.011940 | Val Loss: 0.019940\n"
     ]
    },
    {
     "name": "stderr",
     "output_type": "stream",
     "text": [
      "                                                                     \r"
     ]
    },
    {
     "name": "stdout",
     "output_type": "stream",
     "text": [
      "Epoch 34/100 | Train Loss: 0.014097 | Val Loss: 0.017488\n"
     ]
    },
    {
     "name": "stderr",
     "output_type": "stream",
     "text": [
      "                                                                     \r"
     ]
    },
    {
     "name": "stdout",
     "output_type": "stream",
     "text": [
      "Epoch 35/100 | Train Loss: 0.012601 | Val Loss: 0.012947\n"
     ]
    },
    {
     "name": "stderr",
     "output_type": "stream",
     "text": [
      "                                                                     \r"
     ]
    },
    {
     "name": "stdout",
     "output_type": "stream",
     "text": [
      "Epoch 36/100 | Train Loss: 0.014074 | Val Loss: 0.018295\n"
     ]
    },
    {
     "name": "stderr",
     "output_type": "stream",
     "text": [
      "                                                                     \r"
     ]
    },
    {
     "name": "stdout",
     "output_type": "stream",
     "text": [
      "Epoch 37/100 | Train Loss: 0.013099 | Val Loss: 0.014021\n"
     ]
    },
    {
     "name": "stderr",
     "output_type": "stream",
     "text": [
      "                                                                     \r"
     ]
    },
    {
     "name": "stdout",
     "output_type": "stream",
     "text": [
      "Epoch 38/100 | Train Loss: 0.011805 | Val Loss: 0.014189\n"
     ]
    },
    {
     "name": "stderr",
     "output_type": "stream",
     "text": [
      "                                                                     \r"
     ]
    },
    {
     "name": "stdout",
     "output_type": "stream",
     "text": [
      "Epoch 39/100 | Train Loss: 0.012413 | Val Loss: 0.018555\n"
     ]
    },
    {
     "name": "stderr",
     "output_type": "stream",
     "text": [
      "                                                                     \r"
     ]
    },
    {
     "name": "stdout",
     "output_type": "stream",
     "text": [
      "Epoch 40/100 | Train Loss: 0.012500 | Val Loss: 0.013891\n"
     ]
    },
    {
     "name": "stderr",
     "output_type": "stream",
     "text": [
      "                                                                     \r"
     ]
    },
    {
     "name": "stdout",
     "output_type": "stream",
     "text": [
      "Epoch 41/100 | Train Loss: 0.012432 | Val Loss: 0.013486\n"
     ]
    },
    {
     "name": "stderr",
     "output_type": "stream",
     "text": [
      "                                                                     \r"
     ]
    },
    {
     "name": "stdout",
     "output_type": "stream",
     "text": [
      "Epoch 42/100 | Train Loss: 0.011725 | Val Loss: 0.016577\n"
     ]
    },
    {
     "name": "stderr",
     "output_type": "stream",
     "text": [
      "                                                                     \r"
     ]
    },
    {
     "name": "stdout",
     "output_type": "stream",
     "text": [
      "Epoch 43/100 | Train Loss: 0.013073 | Val Loss: 0.015265\n"
     ]
    },
    {
     "name": "stderr",
     "output_type": "stream",
     "text": [
      "                                                                     \r"
     ]
    },
    {
     "name": "stdout",
     "output_type": "stream",
     "text": [
      "Epoch 44/100 | Train Loss: 0.015327 | Val Loss: 0.016489\n"
     ]
    },
    {
     "name": "stderr",
     "output_type": "stream",
     "text": [
      "                                                                     \r"
     ]
    },
    {
     "name": "stdout",
     "output_type": "stream",
     "text": [
      "Epoch 45/100 | Train Loss: 0.013791 | Val Loss: 0.012183\n"
     ]
    },
    {
     "name": "stderr",
     "output_type": "stream",
     "text": [
      "                                                                     \r"
     ]
    },
    {
     "name": "stdout",
     "output_type": "stream",
     "text": [
      "Epoch 46/100 | Train Loss: 0.012106 | Val Loss: 0.015485\n"
     ]
    },
    {
     "name": "stderr",
     "output_type": "stream",
     "text": [
      "                                                                     \r"
     ]
    },
    {
     "name": "stdout",
     "output_type": "stream",
     "text": [
      "Epoch 47/100 | Train Loss: 0.012623 | Val Loss: 0.012476\n"
     ]
    },
    {
     "name": "stderr",
     "output_type": "stream",
     "text": [
      "                                                                     \r"
     ]
    },
    {
     "name": "stdout",
     "output_type": "stream",
     "text": [
      "Epoch 48/100 | Train Loss: 0.010858 | Val Loss: 0.014044\n"
     ]
    },
    {
     "name": "stderr",
     "output_type": "stream",
     "text": [
      "                                                                     \r"
     ]
    },
    {
     "name": "stdout",
     "output_type": "stream",
     "text": [
      "Epoch 49/100 | Train Loss: 0.011764 | Val Loss: 0.015046\n"
     ]
    },
    {
     "name": "stderr",
     "output_type": "stream",
     "text": [
      "                                                                     \r"
     ]
    },
    {
     "name": "stdout",
     "output_type": "stream",
     "text": [
      "Epoch 50/100 | Train Loss: 0.012753 | Val Loss: 0.014241\n"
     ]
    },
    {
     "name": "stderr",
     "output_type": "stream",
     "text": [
      "                                                                     \r"
     ]
    },
    {
     "name": "stdout",
     "output_type": "stream",
     "text": [
      "Epoch 51/100 | Train Loss: 0.011180 | Val Loss: 0.013359\n"
     ]
    },
    {
     "name": "stderr",
     "output_type": "stream",
     "text": [
      "                                                                     \r"
     ]
    },
    {
     "name": "stdout",
     "output_type": "stream",
     "text": [
      "Epoch 52/100 | Train Loss: 0.011166 | Val Loss: 0.012252\n"
     ]
    },
    {
     "name": "stderr",
     "output_type": "stream",
     "text": [
      "                                                                     \r"
     ]
    },
    {
     "name": "stdout",
     "output_type": "stream",
     "text": [
      "Epoch 53/100 | Train Loss: 0.012406 | Val Loss: 0.016590\n"
     ]
    },
    {
     "name": "stderr",
     "output_type": "stream",
     "text": [
      "                                                                     \r"
     ]
    },
    {
     "name": "stdout",
     "output_type": "stream",
     "text": [
      "Epoch 54/100 | Train Loss: 0.012134 | Val Loss: 0.014034\n"
     ]
    },
    {
     "name": "stderr",
     "output_type": "stream",
     "text": [
      "                                                                     \r"
     ]
    },
    {
     "name": "stdout",
     "output_type": "stream",
     "text": [
      "Epoch 55/100 | Train Loss: 0.012463 | Val Loss: 0.015889\n"
     ]
    },
    {
     "name": "stderr",
     "output_type": "stream",
     "text": [
      "                                                                     \r"
     ]
    },
    {
     "name": "stdout",
     "output_type": "stream",
     "text": [
      "Epoch 56/100 | Train Loss: 0.012266 | Val Loss: 0.014412\n"
     ]
    },
    {
     "name": "stderr",
     "output_type": "stream",
     "text": [
      "                                                                     \r"
     ]
    },
    {
     "name": "stdout",
     "output_type": "stream",
     "text": [
      "Epoch 57/100 | Train Loss: 0.010944 | Val Loss: 0.012266\n"
     ]
    },
    {
     "name": "stderr",
     "output_type": "stream",
     "text": [
      "                                                                     \r"
     ]
    },
    {
     "name": "stdout",
     "output_type": "stream",
     "text": [
      "Epoch 58/100 | Train Loss: 0.011116 | Val Loss: 0.014447\n"
     ]
    },
    {
     "name": "stderr",
     "output_type": "stream",
     "text": [
      "                                                                     \r"
     ]
    },
    {
     "name": "stdout",
     "output_type": "stream",
     "text": [
      "Epoch 59/100 | Train Loss: 0.010999 | Val Loss: 0.012478\n"
     ]
    },
    {
     "name": "stderr",
     "output_type": "stream",
     "text": [
      "                                                                     \r"
     ]
    },
    {
     "name": "stdout",
     "output_type": "stream",
     "text": [
      "Epoch 60/100 | Train Loss: 0.010253 | Val Loss: 0.011896\n"
     ]
    },
    {
     "name": "stderr",
     "output_type": "stream",
     "text": [
      "                                                                     \r"
     ]
    },
    {
     "name": "stdout",
     "output_type": "stream",
     "text": [
      "Epoch 61/100 | Train Loss: 0.010430 | Val Loss: 0.017327\n"
     ]
    },
    {
     "name": "stderr",
     "output_type": "stream",
     "text": [
      "                                                                     \r"
     ]
    },
    {
     "name": "stdout",
     "output_type": "stream",
     "text": [
      "Epoch 62/100 | Train Loss: 0.010825 | Val Loss: 0.012882\n"
     ]
    },
    {
     "name": "stderr",
     "output_type": "stream",
     "text": [
      "                                                                     \r"
     ]
    },
    {
     "name": "stdout",
     "output_type": "stream",
     "text": [
      "Epoch 63/100 | Train Loss: 0.010390 | Val Loss: 0.010870\n"
     ]
    },
    {
     "name": "stderr",
     "output_type": "stream",
     "text": [
      "                                                                     \r"
     ]
    },
    {
     "name": "stdout",
     "output_type": "stream",
     "text": [
      "Epoch 64/100 | Train Loss: 0.010638 | Val Loss: 0.012410\n"
     ]
    },
    {
     "name": "stderr",
     "output_type": "stream",
     "text": [
      "                                                                     \r"
     ]
    },
    {
     "name": "stdout",
     "output_type": "stream",
     "text": [
      "Epoch 65/100 | Train Loss: 0.010070 | Val Loss: 0.014386\n"
     ]
    },
    {
     "name": "stderr",
     "output_type": "stream",
     "text": [
      "                                                                     \r"
     ]
    },
    {
     "name": "stdout",
     "output_type": "stream",
     "text": [
      "Epoch 66/100 | Train Loss: 0.010582 | Val Loss: 0.012140\n"
     ]
    },
    {
     "name": "stderr",
     "output_type": "stream",
     "text": [
      "                                                                     \r"
     ]
    },
    {
     "name": "stdout",
     "output_type": "stream",
     "text": [
      "Epoch 67/100 | Train Loss: 0.009375 | Val Loss: 0.011423\n"
     ]
    },
    {
     "name": "stderr",
     "output_type": "stream",
     "text": [
      "                                                                     \r"
     ]
    },
    {
     "name": "stdout",
     "output_type": "stream",
     "text": [
      "Epoch 68/100 | Train Loss: 0.010479 | Val Loss: 0.011586\n"
     ]
    },
    {
     "name": "stderr",
     "output_type": "stream",
     "text": [
      "                                                                     \r"
     ]
    },
    {
     "name": "stdout",
     "output_type": "stream",
     "text": [
      "Epoch 69/100 | Train Loss: 0.010911 | Val Loss: 0.012014\n"
     ]
    },
    {
     "name": "stderr",
     "output_type": "stream",
     "text": [
      "                                                                     \r"
     ]
    },
    {
     "name": "stdout",
     "output_type": "stream",
     "text": [
      "Epoch 70/100 | Train Loss: 0.010797 | Val Loss: 0.012264\n"
     ]
    },
    {
     "name": "stderr",
     "output_type": "stream",
     "text": [
      "                                                                     \r"
     ]
    },
    {
     "name": "stdout",
     "output_type": "stream",
     "text": [
      "Epoch 71/100 | Train Loss: 0.009329 | Val Loss: 0.014444\n"
     ]
    },
    {
     "name": "stderr",
     "output_type": "stream",
     "text": [
      "                                                                     \r"
     ]
    },
    {
     "name": "stdout",
     "output_type": "stream",
     "text": [
      "Epoch 72/100 | Train Loss: 0.009743 | Val Loss: 0.011247\n"
     ]
    },
    {
     "name": "stderr",
     "output_type": "stream",
     "text": [
      "                                                                     \r"
     ]
    },
    {
     "name": "stdout",
     "output_type": "stream",
     "text": [
      "Epoch 73/100 | Train Loss: 0.010040 | Val Loss: 0.015594\n"
     ]
    },
    {
     "name": "stderr",
     "output_type": "stream",
     "text": [
      "                                                                     \r"
     ]
    },
    {
     "name": "stdout",
     "output_type": "stream",
     "text": [
      "Epoch 74/100 | Train Loss: 0.011147 | Val Loss: 0.010990\n"
     ]
    },
    {
     "name": "stderr",
     "output_type": "stream",
     "text": [
      "                                                                     \r"
     ]
    },
    {
     "name": "stdout",
     "output_type": "stream",
     "text": [
      "Epoch 75/100 | Train Loss: 0.008987 | Val Loss: 0.010624\n"
     ]
    },
    {
     "name": "stderr",
     "output_type": "stream",
     "text": [
      "                                                                     \r"
     ]
    },
    {
     "name": "stdout",
     "output_type": "stream",
     "text": [
      "Epoch 76/100 | Train Loss: 0.009443 | Val Loss: 0.012697\n"
     ]
    },
    {
     "name": "stderr",
     "output_type": "stream",
     "text": [
      "                                                                     \r"
     ]
    },
    {
     "name": "stdout",
     "output_type": "stream",
     "text": [
      "Epoch 77/100 | Train Loss: 0.009540 | Val Loss: 0.010727\n"
     ]
    },
    {
     "name": "stderr",
     "output_type": "stream",
     "text": [
      "                                                                     \r"
     ]
    },
    {
     "name": "stdout",
     "output_type": "stream",
     "text": [
      "Epoch 78/100 | Train Loss: 0.009198 | Val Loss: 0.011939\n"
     ]
    },
    {
     "name": "stderr",
     "output_type": "stream",
     "text": [
      "                                                                     \r"
     ]
    },
    {
     "name": "stdout",
     "output_type": "stream",
     "text": [
      "Epoch 79/100 | Train Loss: 0.009804 | Val Loss: 0.010622\n"
     ]
    },
    {
     "name": "stderr",
     "output_type": "stream",
     "text": [
      "                                                                     \r"
     ]
    },
    {
     "name": "stdout",
     "output_type": "stream",
     "text": [
      "Epoch 80/100 | Train Loss: 0.008880 | Val Loss: 0.011734\n"
     ]
    },
    {
     "name": "stderr",
     "output_type": "stream",
     "text": [
      "                                                                     \r"
     ]
    },
    {
     "name": "stdout",
     "output_type": "stream",
     "text": [
      "Epoch 81/100 | Train Loss: 0.008977 | Val Loss: 0.012702\n"
     ]
    },
    {
     "name": "stderr",
     "output_type": "stream",
     "text": [
      "                                                                     \r"
     ]
    },
    {
     "name": "stdout",
     "output_type": "stream",
     "text": [
      "Epoch 82/100 | Train Loss: 0.008671 | Val Loss: 0.018574\n"
     ]
    },
    {
     "name": "stderr",
     "output_type": "stream",
     "text": [
      "                                                                     \r"
     ]
    },
    {
     "name": "stdout",
     "output_type": "stream",
     "text": [
      "Epoch 83/100 | Train Loss: 0.010529 | Val Loss: 0.011371\n"
     ]
    },
    {
     "name": "stderr",
     "output_type": "stream",
     "text": [
      "                                                                     \r"
     ]
    },
    {
     "name": "stdout",
     "output_type": "stream",
     "text": [
      "Epoch 84/100 | Train Loss: 0.009619 | Val Loss: 0.013087\n"
     ]
    },
    {
     "name": "stderr",
     "output_type": "stream",
     "text": [
      "                                                                     \r"
     ]
    },
    {
     "name": "stdout",
     "output_type": "stream",
     "text": [
      "Epoch 85/100 | Train Loss: 0.010835 | Val Loss: 0.011256\n"
     ]
    },
    {
     "name": "stderr",
     "output_type": "stream",
     "text": [
      "                                                                     \r"
     ]
    },
    {
     "name": "stdout",
     "output_type": "stream",
     "text": [
      "Epoch 86/100 | Train Loss: 0.009179 | Val Loss: 0.012123\n"
     ]
    },
    {
     "name": "stderr",
     "output_type": "stream",
     "text": [
      "                                                                     \r"
     ]
    },
    {
     "name": "stdout",
     "output_type": "stream",
     "text": [
      "Epoch 87/100 | Train Loss: 0.008936 | Val Loss: 0.011953\n"
     ]
    },
    {
     "name": "stderr",
     "output_type": "stream",
     "text": [
      "                                                                     \r"
     ]
    },
    {
     "name": "stdout",
     "output_type": "stream",
     "text": [
      "Epoch 88/100 | Train Loss: 0.010827 | Val Loss: 0.010670\n"
     ]
    },
    {
     "name": "stderr",
     "output_type": "stream",
     "text": [
      "                                                                     \r"
     ]
    },
    {
     "name": "stdout",
     "output_type": "stream",
     "text": [
      "Epoch 89/100 | Train Loss: 0.009306 | Val Loss: 0.010600\n"
     ]
    },
    {
     "name": "stderr",
     "output_type": "stream",
     "text": [
      "                                                                     \r"
     ]
    },
    {
     "name": "stdout",
     "output_type": "stream",
     "text": [
      "Epoch 90/100 | Train Loss: 0.009678 | Val Loss: 0.012111\n"
     ]
    },
    {
     "name": "stderr",
     "output_type": "stream",
     "text": [
      "                                                                     \r"
     ]
    },
    {
     "name": "stdout",
     "output_type": "stream",
     "text": [
      "Epoch 91/100 | Train Loss: 0.009950 | Val Loss: 0.011877\n"
     ]
    },
    {
     "name": "stderr",
     "output_type": "stream",
     "text": [
      "                                                                     \r"
     ]
    },
    {
     "name": "stdout",
     "output_type": "stream",
     "text": [
      "Epoch 92/100 | Train Loss: 0.008306 | Val Loss: 0.010743\n"
     ]
    },
    {
     "name": "stderr",
     "output_type": "stream",
     "text": [
      "                                                                     \r"
     ]
    },
    {
     "name": "stdout",
     "output_type": "stream",
     "text": [
      "Epoch 93/100 | Train Loss: 0.008855 | Val Loss: 0.013339\n"
     ]
    },
    {
     "name": "stderr",
     "output_type": "stream",
     "text": [
      "                                                                     \r"
     ]
    },
    {
     "name": "stdout",
     "output_type": "stream",
     "text": [
      "Epoch 94/100 | Train Loss: 0.009010 | Val Loss: 0.011404\n"
     ]
    },
    {
     "name": "stderr",
     "output_type": "stream",
     "text": [
      "                                                                     \r"
     ]
    },
    {
     "name": "stdout",
     "output_type": "stream",
     "text": [
      "Epoch 95/100 | Train Loss: 0.008507 | Val Loss: 0.014217\n"
     ]
    },
    {
     "name": "stderr",
     "output_type": "stream",
     "text": [
      "                                                                     \r"
     ]
    },
    {
     "name": "stdout",
     "output_type": "stream",
     "text": [
      "Epoch 96/100 | Train Loss: 0.008385 | Val Loss: 0.010849\n"
     ]
    },
    {
     "name": "stderr",
     "output_type": "stream",
     "text": [
      "                                                                     \r"
     ]
    },
    {
     "name": "stdout",
     "output_type": "stream",
     "text": [
      "Epoch 97/100 | Train Loss: 0.007696 | Val Loss: 0.011109\n"
     ]
    },
    {
     "name": "stderr",
     "output_type": "stream",
     "text": [
      "                                                                     \r"
     ]
    },
    {
     "name": "stdout",
     "output_type": "stream",
     "text": [
      "Epoch 98/100 | Train Loss: 0.008477 | Val Loss: 0.010879\n"
     ]
    },
    {
     "name": "stderr",
     "output_type": "stream",
     "text": [
      "                                                                     \r"
     ]
    },
    {
     "name": "stdout",
     "output_type": "stream",
     "text": [
      "Epoch 99/100 | Train Loss: 0.008294 | Val Loss: 0.009821\n"
     ]
    },
    {
     "name": "stderr",
     "output_type": "stream",
     "text": [
      "                                                                      \r"
     ]
    },
    {
     "name": "stdout",
     "output_type": "stream",
     "text": [
      "Epoch 100/100 | Train Loss: 0.008147 | Val Loss: 0.011163\n",
      "\n",
      "--- Training Complete for 'sum' model. Best epoch: 99 (Val Loss: 0.009821) ---\n",
      "\n",
      "--- 6: Displaying Loss Curve Plot for 'sum' model ---\n"
     ]
    },
    {
     "data": {
      "image/png": "[encoded data removed]",
      "text/plain": [
       "<Figure size 1000x600 with 1 Axes>"
      ]
     },
     "metadata": {},
     "output_type": "display_data"
    },
    {
     "name": "stdout",
     "output_type": "stream",
     "text": [
      "\n",
      "--- 7: Evaluating Best 'sum' Model on Test Set ---\n"
     ]
    },
    {
     "name": "stderr",
     "output_type": "stream",
     "text": [
      "Evaluating (sum): 100%|██████████| 16/16 [00:00<00:00, 23.01it/s]\n"
     ]
    },
    {
     "name": "stdout",
     "output_type": "stream",
     "text": [
      "Saved error vs events plot to 'error_vs_events_sum.png'\n",
      "\n",
      "\n",
      "========================= TRAINING MODEL WITH 'MAX' AGGREGATION =========================\n",
      "\n",
      "--- 4: Initializing Model (max) and Training Components ---\n",
      "Using device: cuda:0\n",
      "\n",
      "--- 5: Starting Training with Validation ---\n"
     ]
    },
    {
     "name": "stderr",
     "output_type": "stream",
     "text": [
      "                                                                    \r"
     ]
    },
    {
     "name": "stdout",
     "output_type": "stream",
     "text": [
      "Epoch 1/100 | Train Loss: 0.957685 | Val Loss: 0.790862\n"
     ]
    },
    {
     "name": "stderr",
     "output_type": "stream",
     "text": [
      "                                                                    \r"
     ]
    },
    {
     "name": "stdout",
     "output_type": "stream",
     "text": [
      "Epoch 2/100 | Train Loss: 0.612001 | Val Loss: 0.562587\n"
     ]
    },
    {
     "name": "stderr",
     "output_type": "stream",
     "text": [
      "                                                                    \r"
     ]
    },
    {
     "name": "stdout",
     "output_type": "stream",
     "text": [
      "Epoch 3/100 | Train Loss: 0.555620 | Val Loss: 0.529107\n"
     ]
    },
    {
     "name": "stderr",
     "output_type": "stream",
     "text": [
      "                                                                    \r"
     ]
    },
    {
     "name": "stdout",
     "output_type": "stream",
     "text": [
      "Epoch 4/100 | Train Loss: 0.529283 | Val Loss: 0.547045\n"
     ]
    },
    {
     "name": "stderr",
     "output_type": "stream",
     "text": [
      "                                                                    \r"
     ]
    },
    {
     "name": "stdout",
     "output_type": "stream",
     "text": [
      "Epoch 5/100 | Train Loss: 0.552997 | Val Loss: 0.692993\n"
     ]
    },
    {
     "name": "stderr",
     "output_type": "stream",
     "text": [
      "                                                                    \r"
     ]
    },
    {
     "name": "stdout",
     "output_type": "stream",
     "text": [
      "Epoch 6/100 | Train Loss: 0.538531 | Val Loss: 0.501860\n"
     ]
    },
    {
     "name": "stderr",
     "output_type": "stream",
     "text": [
      "                                                                    \r"
     ]
    },
    {
     "name": "stdout",
     "output_type": "stream",
     "text": [
      "Epoch 7/100 | Train Loss: 0.465680 | Val Loss: 0.430453\n"
     ]
    },
    {
     "name": "stderr",
     "output_type": "stream",
     "text": [
      "                                                                    \r"
     ]
    },
    {
     "name": "stdout",
     "output_type": "stream",
     "text": [
      "Epoch 8/100 | Train Loss: 0.285371 | Val Loss: 0.200583\n"
     ]
    },
    {
     "name": "stderr",
     "output_type": "stream",
     "text": [
      "                                                                    \r"
     ]
    },
    {
     "name": "stdout",
     "output_type": "stream",
     "text": [
      "Epoch 9/100 | Train Loss: 0.133817 | Val Loss: 0.112265\n"
     ]
    },
    {
     "name": "stderr",
     "output_type": "stream",
     "text": [
      "                                                                     \r"
     ]
    },
    {
     "name": "stdout",
     "output_type": "stream",
     "text": [
      "Epoch 10/100 | Train Loss: 0.075569 | Val Loss: 0.065357\n"
     ]
    },
    {
     "name": "stderr",
     "output_type": "stream",
     "text": [
      "                                                                     \r"
     ]
    },
    {
     "name": "stdout",
     "output_type": "stream",
     "text": [
      "Epoch 11/100 | Train Loss: 0.055460 | Val Loss: 0.072161\n"
     ]
    },
    {
     "name": "stderr",
     "output_type": "stream",
     "text": [
      "                                                                     \r"
     ]
    },
    {
     "name": "stdout",
     "output_type": "stream",
     "text": [
      "Epoch 12/100 | Train Loss: 0.047665 | Val Loss: 0.051108\n"
     ]
    },
    {
     "name": "stderr",
     "output_type": "stream",
     "text": [
      "                                                                     \r"
     ]
    },
    {
     "name": "stdout",
     "output_type": "stream",
     "text": [
      "Epoch 13/100 | Train Loss: 0.040224 | Val Loss: 0.048311\n"
     ]
    },
    {
     "name": "stderr",
     "output_type": "stream",
     "text": [
      "                                                                     \r"
     ]
    },
    {
     "name": "stdout",
     "output_type": "stream",
     "text": [
      "Epoch 14/100 | Train Loss: 0.038584 | Val Loss: 0.042354\n"
     ]
    },
    {
     "name": "stderr",
     "output_type": "stream",
     "text": [
      "                                                                     \r"
     ]
    },
    {
     "name": "stdout",
     "output_type": "stream",
     "text": [
      "Epoch 15/100 | Train Loss: 0.031626 | Val Loss: 0.038863\n"
     ]
    },
    {
     "name": "stderr",
     "output_type": "stream",
     "text": [
      "                                                                     \r"
     ]
    },
    {
     "name": "stdout",
     "output_type": "stream",
     "text": [
      "Epoch 16/100 | Train Loss: 0.027374 | Val Loss: 0.041019\n"
     ]
    },
    {
     "name": "stderr",
     "output_type": "stream",
     "text": [
      "                                                                     \r"
     ]
    },
    {
     "name": "stdout",
     "output_type": "stream",
     "text": [
      "Epoch 17/100 | Train Loss: 0.027275 | Val Loss: 0.039102\n"
     ]
    },
    {
     "name": "stderr",
     "output_type": "stream",
     "text": [
      "                                                                     \r"
     ]
    },
    {
     "name": "stdout",
     "output_type": "stream",
     "text": [
      "Epoch 18/100 | Train Loss: 0.022900 | Val Loss: 0.034061\n"
     ]
    },
    {
     "name": "stderr",
     "output_type": "stream",
     "text": [
      "                                                                     \r"
     ]
    },
    {
     "name": "stdout",
     "output_type": "stream",
     "text": [
      "Epoch 19/100 | Train Loss: 0.022190 | Val Loss: 0.038966\n"
     ]
    },
    {
     "name": "stderr",
     "output_type": "stream",
     "text": [
      "                                                                     \r"
     ]
    },
    {
     "name": "stdout",
     "output_type": "stream",
     "text": [
      "Epoch 20/100 | Train Loss: 0.020232 | Val Loss: 0.035483\n"
     ]
    },
    {
     "name": "stderr",
     "output_type": "stream",
     "text": [
      "                                                                     \r"
     ]
    },
    {
     "name": "stdout",
     "output_type": "stream",
     "text": [
      "Epoch 21/100 | Train Loss: 0.018024 | Val Loss: 0.032736\n"
     ]
    },
    {
     "name": "stderr",
     "output_type": "stream",
     "text": [
      "                                                                     \r"
     ]
    },
    {
     "name": "stdout",
     "output_type": "stream",
     "text": [
      "Epoch 22/100 | Train Loss: 0.018869 | Val Loss: 0.036180\n"
     ]
    },
    {
     "name": "stderr",
     "output_type": "stream",
     "text": [
      "                                                                     \r"
     ]
    },
    {
     "name": "stdout",
     "output_type": "stream",
     "text": [
      "Epoch 23/100 | Train Loss: 0.017498 | Val Loss: 0.029948\n"
     ]
    },
    {
     "name": "stderr",
     "output_type": "stream",
     "text": [
      "                                                                     \r"
     ]
    },
    {
     "name": "stdout",
     "output_type": "stream",
     "text": [
      "Epoch 24/100 | Train Loss: 0.015375 | Val Loss: 0.032201\n"
     ]
    },
    {
     "name": "stderr",
     "output_type": "stream",
     "text": [
      "                                                                     \r"
     ]
    },
    {
     "name": "stdout",
     "output_type": "stream",
     "text": [
      "Epoch 25/100 | Train Loss: 0.015689 | Val Loss: 0.030148\n"
     ]
    },
    {
     "name": "stderr",
     "output_type": "stream",
     "text": [
      "                                                                     \r"
     ]
    },
    {
     "name": "stdout",
     "output_type": "stream",
     "text": [
      "Epoch 26/100 | Train Loss: 0.016727 | Val Loss: 0.029443\n"
     ]
    },
    {
     "name": "stderr",
     "output_type": "stream",
     "text": [
      "                                                                     \r"
     ]
    },
    {
     "name": "stdout",
     "output_type": "stream",
     "text": [
      "Epoch 27/100 | Train Loss: 0.013602 | Val Loss: 0.034728\n"
     ]
    },
    {
     "name": "stderr",
     "output_type": "stream",
     "text": [
      "                                                                     \r"
     ]
    },
    {
     "name": "stdout",
     "output_type": "stream",
     "text": [
      "Epoch 28/100 | Train Loss: 0.014502 | Val Loss: 0.030755\n"
     ]
    },
    {
     "name": "stderr",
     "output_type": "stream",
     "text": [
      "                                                                     \r"
     ]
    },
    {
     "name": "stdout",
     "output_type": "stream",
     "text": [
      "Epoch 29/100 | Train Loss: 0.013046 | Val Loss: 0.031937\n"
     ]
    },
    {
     "name": "stderr",
     "output_type": "stream",
     "text": [
      "                                                                     \r"
     ]
    },
    {
     "name": "stdout",
     "output_type": "stream",
     "text": [
      "Epoch 30/100 | Train Loss: 0.013444 | Val Loss: 0.033285\n"
     ]
    },
    {
     "name": "stderr",
     "output_type": "stream",
     "text": [
      "                                                                     \r"
     ]
    },
    {
     "name": "stdout",
     "output_type": "stream",
     "text": [
      "Epoch 31/100 | Train Loss: 0.011357 | Val Loss: 0.028382\n"
     ]
    },
    {
     "name": "stderr",
     "output_type": "stream",
     "text": [
      "                                                                     \r"
     ]
    },
    {
     "name": "stdout",
     "output_type": "stream",
     "text": [
      "Epoch 32/100 | Train Loss: 0.011661 | Val Loss: 0.028252\n"
     ]
    },
    {
     "name": "stderr",
     "output_type": "stream",
     "text": [
      "                                                                     \r"
     ]
    },
    {
     "name": "stdout",
     "output_type": "stream",
     "text": [
      "Epoch 33/100 | Train Loss: 0.011311 | Val Loss: 0.033399\n"
     ]
    },
    {
     "name": "stderr",
     "output_type": "stream",
     "text": [
      "                                                                     \r"
     ]
    },
    {
     "name": "stdout",
     "output_type": "stream",
     "text": [
      "Epoch 34/100 | Train Loss: 0.011000 | Val Loss: 0.032529\n"
     ]
    },
    {
     "name": "stderr",
     "output_type": "stream",
     "text": [
      "                                                                     \r"
     ]
    },
    {
     "name": "stdout",
     "output_type": "stream",
     "text": [
      "Epoch 35/100 | Train Loss: 0.011526 | Val Loss: 0.030447\n"
     ]
    },
    {
     "name": "stderr",
     "output_type": "stream",
     "text": [
      "                                                                     \r"
     ]
    },
    {
     "name": "stdout",
     "output_type": "stream",
     "text": [
      "Epoch 36/100 | Train Loss: 0.009349 | Val Loss: 0.028971\n"
     ]
    },
    {
     "name": "stderr",
     "output_type": "stream",
     "text": [
      "                                                                     \r"
     ]
    },
    {
     "name": "stdout",
     "output_type": "stream",
     "text": [
      "Epoch 37/100 | Train Loss: 0.008257 | Val Loss: 0.030773\n"
     ]
    },
    {
     "name": "stderr",
     "output_type": "stream",
     "text": [
      "                                                                     \r"
     ]
    },
    {
     "name": "stdout",
     "output_type": "stream",
     "text": [
      "Epoch 38/100 | Train Loss: 0.008863 | Val Loss: 0.028745\n"
     ]
    },
    {
     "name": "stderr",
     "output_type": "stream",
     "text": [
      "                                                                     \r"
     ]
    },
    {
     "name": "stdout",
     "output_type": "stream",
     "text": [
      "Epoch 39/100 | Train Loss: 0.009397 | Val Loss: 0.027309\n"
     ]
    },
    {
     "name": "stderr",
     "output_type": "stream",
     "text": [
      "                                                                     \r"
     ]
    },
    {
     "name": "stdout",
     "output_type": "stream",
     "text": [
      "Epoch 40/100 | Train Loss: 0.008257 | Val Loss: 0.027565\n"
     ]
    },
    {
     "name": "stderr",
     "output_type": "stream",
     "text": [
      "                                                                     \r"
     ]
    },
    {
     "name": "stdout",
     "output_type": "stream",
     "text": [
      "Epoch 41/100 | Train Loss: 0.008403 | Val Loss: 0.026841\n"
     ]
    },
    {
     "name": "stderr",
     "output_type": "stream",
     "text": [
      "                                                                     \r"
     ]
    },
    {
     "name": "stdout",
     "output_type": "stream",
     "text": [
      "Epoch 42/100 | Train Loss: 0.008890 | Val Loss: 0.028055\n"
     ]
    },
    {
     "name": "stderr",
     "output_type": "stream",
     "text": [
      "                                                                     \r"
     ]
    },
    {
     "name": "stdout",
     "output_type": "stream",
     "text": [
      "Epoch 43/100 | Train Loss: 0.008631 | Val Loss: 0.031957\n"
     ]
    },
    {
     "name": "stderr",
     "output_type": "stream",
     "text": [
      "                                                                     \r"
     ]
    },
    {
     "name": "stdout",
     "output_type": "stream",
     "text": [
      "Epoch 44/100 | Train Loss: 0.008477 | Val Loss: 0.029380\n"
     ]
    },
    {
     "name": "stderr",
     "output_type": "stream",
     "text": [
      "                                                                     \r"
     ]
    },
    {
     "name": "stdout",
     "output_type": "stream",
     "text": [
      "Epoch 45/100 | Train Loss: 0.007039 | Val Loss: 0.029292\n"
     ]
    },
    {
     "name": "stderr",
     "output_type": "stream",
     "text": [
      "                                                                     \r"
     ]
    },
    {
     "name": "stdout",
     "output_type": "stream",
     "text": [
      "Epoch 46/100 | Train Loss: 0.007160 | Val Loss: 0.027603\n"
     ]
    },
    {
     "name": "stderr",
     "output_type": "stream",
     "text": [
      "                                                                     \r"
     ]
    },
    {
     "name": "stdout",
     "output_type": "stream",
     "text": [
      "Epoch 47/100 | Train Loss: 0.006592 | Val Loss: 0.025982\n"
     ]
    },
    {
     "name": "stderr",
     "output_type": "stream",
     "text": [
      "                                                                     \r"
     ]
    },
    {
     "name": "stdout",
     "output_type": "stream",
     "text": [
      "Epoch 48/100 | Train Loss: 0.005398 | Val Loss: 0.027401\n"
     ]
    },
    {
     "name": "stderr",
     "output_type": "stream",
     "text": [
      "                                                                     \r"
     ]
    },
    {
     "name": "stdout",
     "output_type": "stream",
     "text": [
      "Epoch 49/100 | Train Loss: 0.005286 | Val Loss: 0.028863\n"
     ]
    },
    {
     "name": "stderr",
     "output_type": "stream",
     "text": [
      "                                                                     \r"
     ]
    },
    {
     "name": "stdout",
     "output_type": "stream",
     "text": [
      "Epoch 50/100 | Train Loss: 0.006964 | Val Loss: 0.029349\n"
     ]
    },
    {
     "name": "stderr",
     "output_type": "stream",
     "text": [
      "                                                                     \r"
     ]
    },
    {
     "name": "stdout",
     "output_type": "stream",
     "text": [
      "Epoch 51/100 | Train Loss: 0.007602 | Val Loss: 0.026586\n"
     ]
    },
    {
     "name": "stderr",
     "output_type": "stream",
     "text": [
      "                                                                     \r"
     ]
    },
    {
     "name": "stdout",
     "output_type": "stream",
     "text": [
      "Epoch 52/100 | Train Loss: 0.005347 | Val Loss: 0.026008\n"
     ]
    },
    {
     "name": "stderr",
     "output_type": "stream",
     "text": [
      "                                                                     \r"
     ]
    },
    {
     "name": "stdout",
     "output_type": "stream",
     "text": [
      "Epoch 53/100 | Train Loss: 0.005463 | Val Loss: 0.026460\n"
     ]
    },
    {
     "name": "stderr",
     "output_type": "stream",
     "text": [
      "                                                                     \r"
     ]
    },
    {
     "name": "stdout",
     "output_type": "stream",
     "text": [
      "Epoch 54/100 | Train Loss: 0.007882 | Val Loss: 0.026935\n"
     ]
    },
    {
     "name": "stderr",
     "output_type": "stream",
     "text": [
      "                                                                     \r"
     ]
    },
    {
     "name": "stdout",
     "output_type": "stream",
     "text": [
      "Epoch 55/100 | Train Loss: 0.004815 | Val Loss: 0.025767\n"
     ]
    },
    {
     "name": "stderr",
     "output_type": "stream",
     "text": [
      "                                                                     \r"
     ]
    },
    {
     "name": "stdout",
     "output_type": "stream",
     "text": [
      "Epoch 56/100 | Train Loss: 0.004777 | Val Loss: 0.026194\n"
     ]
    },
    {
     "name": "stderr",
     "output_type": "stream",
     "text": [
      "                                                                     \r"
     ]
    },
    {
     "name": "stdout",
     "output_type": "stream",
     "text": [
      "Epoch 57/100 | Train Loss: 0.005332 | Val Loss: 0.026184\n"
     ]
    },
    {
     "name": "stderr",
     "output_type": "stream",
     "text": [
      "                                                                     \r"
     ]
    },
    {
     "name": "stdout",
     "output_type": "stream",
     "text": [
      "Epoch 58/100 | Train Loss: 0.004019 | Val Loss: 0.027592\n"
     ]
    },
    {
     "name": "stderr",
     "output_type": "stream",
     "text": [
      "                                                                     \r"
     ]
    },
    {
     "name": "stdout",
     "output_type": "stream",
     "text": [
      "Epoch 59/100 | Train Loss: 0.004365 | Val Loss: 0.026043\n"
     ]
    },
    {
     "name": "stderr",
     "output_type": "stream",
     "text": [
      "                                                                     \r"
     ]
    },
    {
     "name": "stdout",
     "output_type": "stream",
     "text": [
      "Epoch 60/100 | Train Loss: 0.004237 | Val Loss: 0.025752\n"
     ]
    },
    {
     "name": "stderr",
     "output_type": "stream",
     "text": [
      "                                                                     \r"
     ]
    },
    {
     "name": "stdout",
     "output_type": "stream",
     "text": [
      "Epoch 61/100 | Train Loss: 0.006545 | Val Loss: 0.028273\n"
     ]
    },
    {
     "name": "stderr",
     "output_type": "stream",
     "text": [
      "                                                                     \r"
     ]
    },
    {
     "name": "stdout",
     "output_type": "stream",
     "text": [
      "Epoch 62/100 | Train Loss: 0.005156 | Val Loss: 0.028128\n"
     ]
    },
    {
     "name": "stderr",
     "output_type": "stream",
     "text": [
      "                                                                     \r"
     ]
    },
    {
     "name": "stdout",
     "output_type": "stream",
     "text": [
      "Epoch 63/100 | Train Loss: 0.004663 | Val Loss: 0.028263\n"
     ]
    },
    {
     "name": "stderr",
     "output_type": "stream",
     "text": [
      "                                                                     \r"
     ]
    },
    {
     "name": "stdout",
     "output_type": "stream",
     "text": [
      "Epoch 64/100 | Train Loss: 0.004500 | Val Loss: 0.027203\n"
     ]
    },
    {
     "name": "stderr",
     "output_type": "stream",
     "text": [
      "                                                                     \r"
     ]
    },
    {
     "name": "stdout",
     "output_type": "stream",
     "text": [
      "Epoch 65/100 | Train Loss: 0.003988 | Val Loss: 0.028654\n"
     ]
    },
    {
     "name": "stderr",
     "output_type": "stream",
     "text": [
      "                                                                     \r"
     ]
    },
    {
     "name": "stdout",
     "output_type": "stream",
     "text": [
      "Epoch 66/100 | Train Loss: 0.003923 | Val Loss: 0.026044\n"
     ]
    },
    {
     "name": "stderr",
     "output_type": "stream",
     "text": [
      "                                                                     \r"
     ]
    },
    {
     "name": "stdout",
     "output_type": "stream",
     "text": [
      "Epoch 67/100 | Train Loss: 0.003529 | Val Loss: 0.025710\n"
     ]
    },
    {
     "name": "stderr",
     "output_type": "stream",
     "text": [
      "                                                                     \r"
     ]
    },
    {
     "name": "stdout",
     "output_type": "stream",
     "text": [
      "Epoch 68/100 | Train Loss: 0.003079 | Val Loss: 0.025549\n"
     ]
    },
    {
     "name": "stderr",
     "output_type": "stream",
     "text": [
      "                                                                     \r"
     ]
    },
    {
     "name": "stdout",
     "output_type": "stream",
     "text": [
      "Epoch 69/100 | Train Loss: 0.003543 | Val Loss: 0.025285\n"
     ]
    },
    {
     "name": "stderr",
     "output_type": "stream",
     "text": [
      "                                                                     \r"
     ]
    },
    {
     "name": "stdout",
     "output_type": "stream",
     "text": [
      "Epoch 70/100 | Train Loss: 0.002949 | Val Loss: 0.024978\n"
     ]
    },
    {
     "name": "stderr",
     "output_type": "stream",
     "text": [
      "                                                                     \r"
     ]
    },
    {
     "name": "stdout",
     "output_type": "stream",
     "text": [
      "Epoch 71/100 | Train Loss: 0.002932 | Val Loss: 0.025394\n"
     ]
    },
    {
     "name": "stderr",
     "output_type": "stream",
     "text": [
      "                                                                     \r"
     ]
    },
    {
     "name": "stdout",
     "output_type": "stream",
     "text": [
      "Epoch 72/100 | Train Loss: 0.002745 | Val Loss: 0.025714\n"
     ]
    },
    {
     "name": "stderr",
     "output_type": "stream",
     "text": [
      "                                                                     \r"
     ]
    },
    {
     "name": "stdout",
     "output_type": "stream",
     "text": [
      "Epoch 73/100 | Train Loss: 0.002808 | Val Loss: 0.026351\n"
     ]
    },
    {
     "name": "stderr",
     "output_type": "stream",
     "text": [
      "                                                                     \r"
     ]
    },
    {
     "name": "stdout",
     "output_type": "stream",
     "text": [
      "Epoch 74/100 | Train Loss: 0.004053 | Val Loss: 0.026532\n"
     ]
    },
    {
     "name": "stderr",
     "output_type": "stream",
     "text": [
      "                                                                     \r"
     ]
    },
    {
     "name": "stdout",
     "output_type": "stream",
     "text": [
      "Epoch 75/100 | Train Loss: 0.003848 | Val Loss: 0.026099\n"
     ]
    },
    {
     "name": "stderr",
     "output_type": "stream",
     "text": [
      "                                                                     \r"
     ]
    },
    {
     "name": "stdout",
     "output_type": "stream",
     "text": [
      "Epoch 76/100 | Train Loss: 0.002621 | Val Loss: 0.025088\n"
     ]
    },
    {
     "name": "stderr",
     "output_type": "stream",
     "text": [
      "                                                                     \r"
     ]
    },
    {
     "name": "stdout",
     "output_type": "stream",
     "text": [
      "Epoch 77/100 | Train Loss: 0.002697 | Val Loss: 0.025859\n"
     ]
    },
    {
     "name": "stderr",
     "output_type": "stream",
     "text": [
      "                                                                     \r"
     ]
    },
    {
     "name": "stdout",
     "output_type": "stream",
     "text": [
      "Epoch 78/100 | Train Loss: 0.002685 | Val Loss: 0.026985\n"
     ]
    },
    {
     "name": "stderr",
     "output_type": "stream",
     "text": [
      "                                                                     \r"
     ]
    },
    {
     "name": "stdout",
     "output_type": "stream",
     "text": [
      "Epoch 79/100 | Train Loss: 0.002729 | Val Loss: 0.025155\n"
     ]
    },
    {
     "name": "stderr",
     "output_type": "stream",
     "text": [
      "                                                                     \r"
     ]
    },
    {
     "name": "stdout",
     "output_type": "stream",
     "text": [
      "Epoch 80/100 | Train Loss: 0.002312 | Val Loss: 0.026343\n"
     ]
    },
    {
     "name": "stderr",
     "output_type": "stream",
     "text": [
      "                                                                     \r"
     ]
    },
    {
     "name": "stdout",
     "output_type": "stream",
     "text": [
      "Epoch 81/100 | Train Loss: 0.002404 | Val Loss: 0.024923\n"
     ]
    },
    {
     "name": "stderr",
     "output_type": "stream",
     "text": [
      "                                                                     \r"
     ]
    },
    {
     "name": "stdout",
     "output_type": "stream",
     "text": [
      "Epoch 82/100 | Train Loss: 0.002313 | Val Loss: 0.025719\n"
     ]
    },
    {
     "name": "stderr",
     "output_type": "stream",
     "text": [
      "                                                                     \r"
     ]
    },
    {
     "name": "stdout",
     "output_type": "stream",
     "text": [
      "Epoch 83/100 | Train Loss: 0.002318 | Val Loss: 0.026842\n"
     ]
    },
    {
     "name": "stderr",
     "output_type": "stream",
     "text": [
      "                                                                     \r"
     ]
    },
    {
     "name": "stdout",
     "output_type": "stream",
     "text": [
      "Epoch 84/100 | Train Loss: 0.001983 | Val Loss: 0.025325\n"
     ]
    },
    {
     "name": "stderr",
     "output_type": "stream",
     "text": [
      "                                                                     \r"
     ]
    },
    {
     "name": "stdout",
     "output_type": "stream",
     "text": [
      "Epoch 85/100 | Train Loss: 0.002468 | Val Loss: 0.024934\n"
     ]
    },
    {
     "name": "stderr",
     "output_type": "stream",
     "text": [
      "                                                                     \r"
     ]
    },
    {
     "name": "stdout",
     "output_type": "stream",
     "text": [
      "Epoch 86/100 | Train Loss: 0.002801 | Val Loss: 0.025689\n"
     ]
    },
    {
     "name": "stderr",
     "output_type": "stream",
     "text": [
      "                                                                     \r"
     ]
    },
    {
     "name": "stdout",
     "output_type": "stream",
     "text": [
      "Epoch 87/100 | Train Loss: 0.002770 | Val Loss: 0.027116\n"
     ]
    },
    {
     "name": "stderr",
     "output_type": "stream",
     "text": [
      "                                                                     \r"
     ]
    },
    {
     "name": "stdout",
     "output_type": "stream",
     "text": [
      "Epoch 88/100 | Train Loss: 0.003157 | Val Loss: 0.027568\n"
     ]
    },
    {
     "name": "stderr",
     "output_type": "stream",
     "text": [
      "                                                                     \r"
     ]
    },
    {
     "name": "stdout",
     "output_type": "stream",
     "text": [
      "Epoch 89/100 | Train Loss: 0.002119 | Val Loss: 0.025048\n"
     ]
    },
    {
     "name": "stderr",
     "output_type": "stream",
     "text": [
      "                                                                     \r"
     ]
    },
    {
     "name": "stdout",
     "output_type": "stream",
     "text": [
      "Epoch 90/100 | Train Loss: 0.002425 | Val Loss: 0.025492\n"
     ]
    },
    {
     "name": "stderr",
     "output_type": "stream",
     "text": [
      "                                                                     \r"
     ]
    },
    {
     "name": "stdout",
     "output_type": "stream",
     "text": [
      "Epoch 91/100 | Train Loss: 0.002019 | Val Loss: 0.026681\n"
     ]
    },
    {
     "name": "stderr",
     "output_type": "stream",
     "text": [
      "                                                                     \r"
     ]
    },
    {
     "name": "stdout",
     "output_type": "stream",
     "text": [
      "Epoch 92/100 | Train Loss: 0.001654 | Val Loss: 0.024607\n"
     ]
    },
    {
     "name": "stderr",
     "output_type": "stream",
     "text": [
      "                                                                     \r"
     ]
    },
    {
     "name": "stdout",
     "output_type": "stream",
     "text": [
      "Epoch 93/100 | Train Loss: 0.002128 | Val Loss: 0.024647\n"
     ]
    },
    {
     "name": "stderr",
     "output_type": "stream",
     "text": [
      "                                                                     \r"
     ]
    },
    {
     "name": "stdout",
     "output_type": "stream",
     "text": [
      "Epoch 94/100 | Train Loss: 0.001819 | Val Loss: 0.024749\n"
     ]
    },
    {
     "name": "stderr",
     "output_type": "stream",
     "text": [
      "                                                                     \r"
     ]
    },
    {
     "name": "stdout",
     "output_type": "stream",
     "text": [
      "Epoch 95/100 | Train Loss: 0.001698 | Val Loss: 0.026945\n"
     ]
    },
    {
     "name": "stderr",
     "output_type": "stream",
     "text": [
      "                                                                     \r"
     ]
    },
    {
     "name": "stdout",
     "output_type": "stream",
     "text": [
      "Epoch 96/100 | Train Loss: 0.002243 | Val Loss: 0.024785\n"
     ]
    },
    {
     "name": "stderr",
     "output_type": "stream",
     "text": [
      "                                                                     \r"
     ]
    },
    {
     "name": "stdout",
     "output_type": "stream",
     "text": [
      "Epoch 97/100 | Train Loss: 0.001504 | Val Loss: 0.024427\n"
     ]
    },
    {
     "name": "stderr",
     "output_type": "stream",
     "text": [
      "                                                                     \r"
     ]
    },
    {
     "name": "stdout",
     "output_type": "stream",
     "text": [
      "Epoch 98/100 | Train Loss: 0.001897 | Val Loss: 0.024764\n"
     ]
    },
    {
     "name": "stderr",
     "output_type": "stream",
     "text": [
      "                                                                     \r"
     ]
    },
    {
     "name": "stdout",
     "output_type": "stream",
     "text": [
      "Epoch 99/100 | Train Loss: 0.001515 | Val Loss: 0.024232\n"
     ]
    },
    {
     "name": "stderr",
     "output_type": "stream",
     "text": [
      "                                                                      "
     ]
    },
    {
     "name": "stdout",
     "output_type": "stream",
     "text": [
      "Epoch 100/100 | Train Loss: 0.001464 | Val Loss: 0.024704\n",
      "\n",
      "--- Training Complete for 'max' model. Best epoch: 99 (Val Loss: 0.024232) ---\n",
      "\n",
      "--- 6: Displaying Loss Curve Plot for 'max' model ---\n"
     ]
    },
    {
     "name": "stderr",
     "output_type": "stream",
     "text": [
      "\r"
     ]
    },
    {
     "data": {
      "image/png": "[encoded data removed]",
      "text/plain": [
       "<Figure size 1000x600 with 1 Axes>"
      ]
     },
     "metadata": {},
     "output_type": "display_data"
    },
    {
     "name": "stdout",
     "output_type": "stream",
     "text": [
      "\n",
      "--- 7: Evaluating Best 'max' Model on Test Set ---\n"
     ]
    },
    {
     "name": "stderr",
     "output_type": "stream",
     "text": [
      "Evaluating (max): 100%|██████████| 16/16 [00:00<00:00, 23.52it/s]\n"
     ]
    },
    {
     "name": "stdout",
     "output_type": "stream",
     "text": [
      "Saved error vs events plot to 'error_vs_events_max.png'\n",
      "\n",
      "\n",
      "========================= TRAINING MODEL WITH 'MEAN' AGGREGATION =========================\n",
      "\n",
      "--- 4: Initializing Model (mean) and Training Components ---\n",
      "Using device: cuda:0\n",
      "\n",
      "--- 5: Starting Training with Validation ---\n"
     ]
    },
    {
     "name": "stderr",
     "output_type": "stream",
     "text": [
      "                                                                    \r"
     ]
    },
    {
     "name": "stdout",
     "output_type": "stream",
     "text": [
      "Epoch 1/100 | Train Loss: 0.990441 | Val Loss: 0.908112\n"
     ]
    },
    {
     "name": "stderr",
     "output_type": "stream",
     "text": [
      "                                                                    \r"
     ]
    },
    {
     "name": "stdout",
     "output_type": "stream",
     "text": [
      "Epoch 2/100 | Train Loss: 0.671840 | Val Loss: 0.523629\n"
     ]
    },
    {
     "name": "stderr",
     "output_type": "stream",
     "text": [
      "                                                                    \r"
     ]
    },
    {
     "name": "stdout",
     "output_type": "stream",
     "text": [
      "Epoch 3/100 | Train Loss: 0.495399 | Val Loss: 0.490091\n"
     ]
    },
    {
     "name": "stderr",
     "output_type": "stream",
     "text": [
      "                                                                    \r"
     ]
    },
    {
     "name": "stdout",
     "output_type": "stream",
     "text": [
      "Epoch 4/100 | Train Loss: 0.471052 | Val Loss: 0.458708\n"
     ]
    },
    {
     "name": "stderr",
     "output_type": "stream",
     "text": [
      "                                                                    \r"
     ]
    },
    {
     "name": "stdout",
     "output_type": "stream",
     "text": [
      "Epoch 5/100 | Train Loss: 0.366625 | Val Loss: 0.324200\n"
     ]
    },
    {
     "name": "stderr",
     "output_type": "stream",
     "text": [
      "                                                                    \r"
     ]
    },
    {
     "name": "stdout",
     "output_type": "stream",
     "text": [
      "Epoch 6/100 | Train Loss: 0.259692 | Val Loss: 0.261308\n"
     ]
    },
    {
     "name": "stderr",
     "output_type": "stream",
     "text": [
      "                                                                    \r"
     ]
    },
    {
     "name": "stdout",
     "output_type": "stream",
     "text": [
      "Epoch 7/100 | Train Loss: 0.237305 | Val Loss: 0.220233\n"
     ]
    },
    {
     "name": "stderr",
     "output_type": "stream",
     "text": [
      "                                                                    \r"
     ]
    },
    {
     "name": "stdout",
     "output_type": "stream",
     "text": [
      "Epoch 8/100 | Train Loss: 0.129953 | Val Loss: 0.078104\n"
     ]
    },
    {
     "name": "stderr",
     "output_type": "stream",
     "text": [
      "                                                                    \r"
     ]
    },
    {
     "name": "stdout",
     "output_type": "stream",
     "text": [
      "Epoch 9/100 | Train Loss: 0.055826 | Val Loss: 0.041844\n"
     ]
    },
    {
     "name": "stderr",
     "output_type": "stream",
     "text": [
      "                                                                     \r"
     ]
    },
    {
     "name": "stdout",
     "output_type": "stream",
     "text": [
      "Epoch 10/100 | Train Loss: 0.042247 | Val Loss: 0.036996\n"
     ]
    },
    {
     "name": "stderr",
     "output_type": "stream",
     "text": [
      "                                                                     \r"
     ]
    },
    {
     "name": "stdout",
     "output_type": "stream",
     "text": [
      "Epoch 11/100 | Train Loss: 0.033682 | Val Loss: 0.033315\n"
     ]
    },
    {
     "name": "stderr",
     "output_type": "stream",
     "text": [
      "                                                                     \r"
     ]
    },
    {
     "name": "stdout",
     "output_type": "stream",
     "text": [
      "Epoch 12/100 | Train Loss: 0.033706 | Val Loss: 0.033907\n"
     ]
    },
    {
     "name": "stderr",
     "output_type": "stream",
     "text": [
      "                                                                     \r"
     ]
    },
    {
     "name": "stdout",
     "output_type": "stream",
     "text": [
      "Epoch 13/100 | Train Loss: 0.029579 | Val Loss: 0.031072\n"
     ]
    },
    {
     "name": "stderr",
     "output_type": "stream",
     "text": [
      "                                                                     \r"
     ]
    },
    {
     "name": "stdout",
     "output_type": "stream",
     "text": [
      "Epoch 14/100 | Train Loss: 0.029134 | Val Loss: 0.045189\n"
     ]
    },
    {
     "name": "stderr",
     "output_type": "stream",
     "text": [
      "                                                                     \r"
     ]
    },
    {
     "name": "stdout",
     "output_type": "stream",
     "text": [
      "Epoch 15/100 | Train Loss: 0.029035 | Val Loss: 0.026859\n"
     ]
    },
    {
     "name": "stderr",
     "output_type": "stream",
     "text": [
      "                                                                     \r"
     ]
    },
    {
     "name": "stdout",
     "output_type": "stream",
     "text": [
      "Epoch 16/100 | Train Loss: 0.027118 | Val Loss: 0.041462\n"
     ]
    },
    {
     "name": "stderr",
     "output_type": "stream",
     "text": [
      "                                                                     \r"
     ]
    },
    {
     "name": "stdout",
     "output_type": "stream",
     "text": [
      "Epoch 17/100 | Train Loss: 0.026696 | Val Loss: 0.030765\n"
     ]
    },
    {
     "name": "stderr",
     "output_type": "stream",
     "text": [
      "                                                                     \r"
     ]
    },
    {
     "name": "stdout",
     "output_type": "stream",
     "text": [
      "Epoch 18/100 | Train Loss: 0.024494 | Val Loss: 0.032498\n"
     ]
    },
    {
     "name": "stderr",
     "output_type": "stream",
     "text": [
      "                                                                     \r"
     ]
    },
    {
     "name": "stdout",
     "output_type": "stream",
     "text": [
      "Epoch 19/100 | Train Loss: 0.026629 | Val Loss: 0.026695\n"
     ]
    },
    {
     "name": "stderr",
     "output_type": "stream",
     "text": [
      "                                                                     \r"
     ]
    },
    {
     "name": "stdout",
     "output_type": "stream",
     "text": [
      "Epoch 20/100 | Train Loss: 0.022546 | Val Loss: 0.025379\n"
     ]
    },
    {
     "name": "stderr",
     "output_type": "stream",
     "text": [
      "                                                                     \r"
     ]
    },
    {
     "name": "stdout",
     "output_type": "stream",
     "text": [
      "Epoch 21/100 | Train Loss: 0.021977 | Val Loss: 0.034943\n"
     ]
    },
    {
     "name": "stderr",
     "output_type": "stream",
     "text": [
      "                                                                     \r"
     ]
    },
    {
     "name": "stdout",
     "output_type": "stream",
     "text": [
      "Epoch 22/100 | Train Loss: 0.023766 | Val Loss: 0.024904\n"
     ]
    },
    {
     "name": "stderr",
     "output_type": "stream",
     "text": [
      "                                                                     \r"
     ]
    },
    {
     "name": "stdout",
     "output_type": "stream",
     "text": [
      "Epoch 23/100 | Train Loss: 0.020443 | Val Loss: 0.021032\n"
     ]
    },
    {
     "name": "stderr",
     "output_type": "stream",
     "text": [
      "                                                                     \r"
     ]
    },
    {
     "name": "stdout",
     "output_type": "stream",
     "text": [
      "Epoch 24/100 | Train Loss: 0.019196 | Val Loss: 0.019130\n"
     ]
    },
    {
     "name": "stderr",
     "output_type": "stream",
     "text": [
      "                                                                     \r"
     ]
    },
    {
     "name": "stdout",
     "output_type": "stream",
     "text": [
      "Epoch 25/100 | Train Loss: 0.018036 | Val Loss: 0.019447\n"
     ]
    },
    {
     "name": "stderr",
     "output_type": "stream",
     "text": [
      "                                                                     \r"
     ]
    },
    {
     "name": "stdout",
     "output_type": "stream",
     "text": [
      "Epoch 26/100 | Train Loss: 0.020413 | Val Loss: 0.023359\n"
     ]
    },
    {
     "name": "stderr",
     "output_type": "stream",
     "text": [
      "                                                                     \r"
     ]
    },
    {
     "name": "stdout",
     "output_type": "stream",
     "text": [
      "Epoch 27/100 | Train Loss: 0.021247 | Val Loss: 0.018831\n"
     ]
    },
    {
     "name": "stderr",
     "output_type": "stream",
     "text": [
      "                                                                     \r"
     ]
    },
    {
     "name": "stdout",
     "output_type": "stream",
     "text": [
      "Epoch 28/100 | Train Loss: 0.016972 | Val Loss: 0.018075\n"
     ]
    },
    {
     "name": "stderr",
     "output_type": "stream",
     "text": [
      "                                                                     \r"
     ]
    },
    {
     "name": "stdout",
     "output_type": "stream",
     "text": [
      "Epoch 29/100 | Train Loss: 0.016656 | Val Loss: 0.021524\n"
     ]
    },
    {
     "name": "stderr",
     "output_type": "stream",
     "text": [
      "                                                                     \r"
     ]
    },
    {
     "name": "stdout",
     "output_type": "stream",
     "text": [
      "Epoch 30/100 | Train Loss: 0.017879 | Val Loss: 0.022638\n"
     ]
    },
    {
     "name": "stderr",
     "output_type": "stream",
     "text": [
      "                                                                     \r"
     ]
    },
    {
     "name": "stdout",
     "output_type": "stream",
     "text": [
      "Epoch 31/100 | Train Loss: 0.017273 | Val Loss: 0.018064\n"
     ]
    },
    {
     "name": "stderr",
     "output_type": "stream",
     "text": [
      "                                                                     \r"
     ]
    },
    {
     "name": "stdout",
     "output_type": "stream",
     "text": [
      "Epoch 32/100 | Train Loss: 0.016148 | Val Loss: 0.017647\n"
     ]
    },
    {
     "name": "stderr",
     "output_type": "stream",
     "text": [
      "                                                                     \r"
     ]
    },
    {
     "name": "stdout",
     "output_type": "stream",
     "text": [
      "Epoch 33/100 | Train Loss: 0.016608 | Val Loss: 0.017210\n"
     ]
    },
    {
     "name": "stderr",
     "output_type": "stream",
     "text": [
      "                                                                     \r"
     ]
    },
    {
     "name": "stdout",
     "output_type": "stream",
     "text": [
      "Epoch 34/100 | Train Loss: 0.017331 | Val Loss: 0.023754\n"
     ]
    },
    {
     "name": "stderr",
     "output_type": "stream",
     "text": [
      "                                                                     \r"
     ]
    },
    {
     "name": "stdout",
     "output_type": "stream",
     "text": [
      "Epoch 35/100 | Train Loss: 0.017115 | Val Loss: 0.017272\n"
     ]
    },
    {
     "name": "stderr",
     "output_type": "stream",
     "text": [
      "                                                                     \r"
     ]
    },
    {
     "name": "stdout",
     "output_type": "stream",
     "text": [
      "Epoch 36/100 | Train Loss: 0.017002 | Val Loss: 0.019898\n"
     ]
    },
    {
     "name": "stderr",
     "output_type": "stream",
     "text": [
      "                                                                     \r"
     ]
    },
    {
     "name": "stdout",
     "output_type": "stream",
     "text": [
      "Epoch 37/100 | Train Loss: 0.016811 | Val Loss: 0.017124\n"
     ]
    },
    {
     "name": "stderr",
     "output_type": "stream",
     "text": [
      "                                                                     \r"
     ]
    },
    {
     "name": "stdout",
     "output_type": "stream",
     "text": [
      "Epoch 38/100 | Train Loss: 0.016323 | Val Loss: 0.018472\n"
     ]
    },
    {
     "name": "stderr",
     "output_type": "stream",
     "text": [
      "                                                                     \r"
     ]
    },
    {
     "name": "stdout",
     "output_type": "stream",
     "text": [
      "Epoch 39/100 | Train Loss: 0.016090 | Val Loss: 0.019317\n"
     ]
    },
    {
     "name": "stderr",
     "output_type": "stream",
     "text": [
      "                                                                     \r"
     ]
    },
    {
     "name": "stdout",
     "output_type": "stream",
     "text": [
      "Epoch 40/100 | Train Loss: 0.015892 | Val Loss: 0.017572\n"
     ]
    },
    {
     "name": "stderr",
     "output_type": "stream",
     "text": [
      "                                                                     \r"
     ]
    },
    {
     "name": "stdout",
     "output_type": "stream",
     "text": [
      "Epoch 41/100 | Train Loss: 0.017584 | Val Loss: 0.019887\n"
     ]
    },
    {
     "name": "stderr",
     "output_type": "stream",
     "text": [
      "                                                                     \r"
     ]
    },
    {
     "name": "stdout",
     "output_type": "stream",
     "text": [
      "Epoch 42/100 | Train Loss: 0.015433 | Val Loss: 0.015724\n"
     ]
    },
    {
     "name": "stderr",
     "output_type": "stream",
     "text": [
      "                                                                     \r"
     ]
    },
    {
     "name": "stdout",
     "output_type": "stream",
     "text": [
      "Epoch 43/100 | Train Loss: 0.014975 | Val Loss: 0.017577\n"
     ]
    },
    {
     "name": "stderr",
     "output_type": "stream",
     "text": [
      "                                                                     \r"
     ]
    },
    {
     "name": "stdout",
     "output_type": "stream",
     "text": [
      "Epoch 44/100 | Train Loss: 0.014997 | Val Loss: 0.016489\n"
     ]
    },
    {
     "name": "stderr",
     "output_type": "stream",
     "text": [
      "                                                                     \r"
     ]
    },
    {
     "name": "stdout",
     "output_type": "stream",
     "text": [
      "Epoch 45/100 | Train Loss: 0.014901 | Val Loss: 0.015605\n"
     ]
    },
    {
     "name": "stderr",
     "output_type": "stream",
     "text": [
      "                                                                     \r"
     ]
    },
    {
     "name": "stdout",
     "output_type": "stream",
     "text": [
      "Epoch 46/100 | Train Loss: 0.017456 | Val Loss: 0.017599\n"
     ]
    },
    {
     "name": "stderr",
     "output_type": "stream",
     "text": [
      "                                                                     \r"
     ]
    },
    {
     "name": "stdout",
     "output_type": "stream",
     "text": [
      "Epoch 47/100 | Train Loss: 0.014617 | Val Loss: 0.015089\n"
     ]
    },
    {
     "name": "stderr",
     "output_type": "stream",
     "text": [
      "                                                                     \r"
     ]
    },
    {
     "name": "stdout",
     "output_type": "stream",
     "text": [
      "Epoch 48/100 | Train Loss: 0.015082 | Val Loss: 0.016033\n"
     ]
    },
    {
     "name": "stderr",
     "output_type": "stream",
     "text": [
      "                                                                     \r"
     ]
    },
    {
     "name": "stdout",
     "output_type": "stream",
     "text": [
      "Epoch 49/100 | Train Loss: 0.014035 | Val Loss: 0.019730\n"
     ]
    },
    {
     "name": "stderr",
     "output_type": "stream",
     "text": [
      "                                                                     \r"
     ]
    },
    {
     "name": "stdout",
     "output_type": "stream",
     "text": [
      "Epoch 50/100 | Train Loss: 0.014897 | Val Loss: 0.015759\n"
     ]
    },
    {
     "name": "stderr",
     "output_type": "stream",
     "text": [
      "                                                                     \r"
     ]
    },
    {
     "name": "stdout",
     "output_type": "stream",
     "text": [
      "Epoch 51/100 | Train Loss: 0.015147 | Val Loss: 0.016610\n"
     ]
    },
    {
     "name": "stderr",
     "output_type": "stream",
     "text": [
      "                                                                     \r"
     ]
    },
    {
     "name": "stdout",
     "output_type": "stream",
     "text": [
      "Epoch 52/100 | Train Loss: 0.014428 | Val Loss: 0.017537\n"
     ]
    },
    {
     "name": "stderr",
     "output_type": "stream",
     "text": [
      "                                                                     \r"
     ]
    },
    {
     "name": "stdout",
     "output_type": "stream",
     "text": [
      "Epoch 53/100 | Train Loss: 0.015174 | Val Loss: 0.015639\n"
     ]
    },
    {
     "name": "stderr",
     "output_type": "stream",
     "text": [
      "                                                                     \r"
     ]
    },
    {
     "name": "stdout",
     "output_type": "stream",
     "text": [
      "Epoch 54/100 | Train Loss: 0.014961 | Val Loss: 0.018382\n"
     ]
    },
    {
     "name": "stderr",
     "output_type": "stream",
     "text": [
      "                                                                     \r"
     ]
    },
    {
     "name": "stdout",
     "output_type": "stream",
     "text": [
      "Epoch 55/100 | Train Loss: 0.014243 | Val Loss: 0.016181\n"
     ]
    },
    {
     "name": "stderr",
     "output_type": "stream",
     "text": [
      "                                                                     \r"
     ]
    },
    {
     "name": "stdout",
     "output_type": "stream",
     "text": [
      "Epoch 56/100 | Train Loss: 0.013531 | Val Loss: 0.014757\n"
     ]
    },
    {
     "name": "stderr",
     "output_type": "stream",
     "text": [
      "                                                                     \r"
     ]
    },
    {
     "name": "stdout",
     "output_type": "stream",
     "text": [
      "Epoch 57/100 | Train Loss: 0.013586 | Val Loss: 0.014188\n"
     ]
    },
    {
     "name": "stderr",
     "output_type": "stream",
     "text": [
      "                                                                     \r"
     ]
    },
    {
     "name": "stdout",
     "output_type": "stream",
     "text": [
      "Epoch 58/100 | Train Loss: 0.014210 | Val Loss: 0.017547\n"
     ]
    },
    {
     "name": "stderr",
     "output_type": "stream",
     "text": [
      "                                                                     \r"
     ]
    },
    {
     "name": "stdout",
     "output_type": "stream",
     "text": [
      "Epoch 59/100 | Train Loss: 0.014560 | Val Loss: 0.014337\n"
     ]
    },
    {
     "name": "stderr",
     "output_type": "stream",
     "text": [
      "                                                                     \r"
     ]
    },
    {
     "name": "stdout",
     "output_type": "stream",
     "text": [
      "Epoch 60/100 | Train Loss: 0.013114 | Val Loss: 0.014287\n"
     ]
    },
    {
     "name": "stderr",
     "output_type": "stream",
     "text": [
      "                                                                     \r"
     ]
    },
    {
     "name": "stdout",
     "output_type": "stream",
     "text": [
      "Epoch 61/100 | Train Loss: 0.013924 | Val Loss: 0.018647\n"
     ]
    },
    {
     "name": "stderr",
     "output_type": "stream",
     "text": [
      "                                                                     \r"
     ]
    },
    {
     "name": "stdout",
     "output_type": "stream",
     "text": [
      "Epoch 62/100 | Train Loss: 0.014304 | Val Loss: 0.013730\n"
     ]
    },
    {
     "name": "stderr",
     "output_type": "stream",
     "text": [
      "                                                                     \r"
     ]
    },
    {
     "name": "stdout",
     "output_type": "stream",
     "text": [
      "Epoch 63/100 | Train Loss: 0.015580 | Val Loss: 0.014081\n"
     ]
    },
    {
     "name": "stderr",
     "output_type": "stream",
     "text": [
      "                                                                     \r"
     ]
    },
    {
     "name": "stdout",
     "output_type": "stream",
     "text": [
      "Epoch 64/100 | Train Loss: 0.014002 | Val Loss: 0.017575\n"
     ]
    },
    {
     "name": "stderr",
     "output_type": "stream",
     "text": [
      "                                                                     \r"
     ]
    },
    {
     "name": "stdout",
     "output_type": "stream",
     "text": [
      "Epoch 65/100 | Train Loss: 0.013048 | Val Loss: 0.017640\n"
     ]
    },
    {
     "name": "stderr",
     "output_type": "stream",
     "text": [
      "                                                                     \r"
     ]
    },
    {
     "name": "stdout",
     "output_type": "stream",
     "text": [
      "Epoch 66/100 | Train Loss: 0.012697 | Val Loss: 0.015809\n"
     ]
    },
    {
     "name": "stderr",
     "output_type": "stream",
     "text": [
      "                                                                     \r"
     ]
    },
    {
     "name": "stdout",
     "output_type": "stream",
     "text": [
      "Epoch 67/100 | Train Loss: 0.012600 | Val Loss: 0.013641\n"
     ]
    },
    {
     "name": "stderr",
     "output_type": "stream",
     "text": [
      "                                                                     \r"
     ]
    },
    {
     "name": "stdout",
     "output_type": "stream",
     "text": [
      "Epoch 68/100 | Train Loss: 0.014016 | Val Loss: 0.014701\n"
     ]
    },
    {
     "name": "stderr",
     "output_type": "stream",
     "text": [
      "                                                                     \r"
     ]
    },
    {
     "name": "stdout",
     "output_type": "stream",
     "text": [
      "Epoch 69/100 | Train Loss: 0.012739 | Val Loss: 0.013751\n"
     ]
    },
    {
     "name": "stderr",
     "output_type": "stream",
     "text": [
      "                                                                     \r"
     ]
    },
    {
     "name": "stdout",
     "output_type": "stream",
     "text": [
      "Epoch 70/100 | Train Loss: 0.013426 | Val Loss: 0.014746\n"
     ]
    },
    {
     "name": "stderr",
     "output_type": "stream",
     "text": [
      "                                                                     \r"
     ]
    },
    {
     "name": "stdout",
     "output_type": "stream",
     "text": [
      "Epoch 71/100 | Train Loss: 0.013813 | Val Loss: 0.015477\n"
     ]
    },
    {
     "name": "stderr",
     "output_type": "stream",
     "text": [
      "                                                                     \r"
     ]
    },
    {
     "name": "stdout",
     "output_type": "stream",
     "text": [
      "Epoch 72/100 | Train Loss: 0.014334 | Val Loss: 0.014074\n"
     ]
    },
    {
     "name": "stderr",
     "output_type": "stream",
     "text": [
      "                                                                     \r"
     ]
    },
    {
     "name": "stdout",
     "output_type": "stream",
     "text": [
      "Epoch 73/100 | Train Loss: 0.014411 | Val Loss: 0.013768\n"
     ]
    },
    {
     "name": "stderr",
     "output_type": "stream",
     "text": [
      "                                                                     \r"
     ]
    },
    {
     "name": "stdout",
     "output_type": "stream",
     "text": [
      "Epoch 74/100 | Train Loss: 0.013512 | Val Loss: 0.016910\n"
     ]
    },
    {
     "name": "stderr",
     "output_type": "stream",
     "text": [
      "                                                                     \r"
     ]
    },
    {
     "name": "stdout",
     "output_type": "stream",
     "text": [
      "Epoch 75/100 | Train Loss: 0.014317 | Val Loss: 0.015343\n"
     ]
    },
    {
     "name": "stderr",
     "output_type": "stream",
     "text": [
      "                                                                     \r"
     ]
    },
    {
     "name": "stdout",
     "output_type": "stream",
     "text": [
      "Epoch 76/100 | Train Loss: 0.012973 | Val Loss: 0.014573\n"
     ]
    },
    {
     "name": "stderr",
     "output_type": "stream",
     "text": [
      "                                                                     \r"
     ]
    },
    {
     "name": "stdout",
     "output_type": "stream",
     "text": [
      "Epoch 77/100 | Train Loss: 0.012671 | Val Loss: 0.013642\n"
     ]
    },
    {
     "name": "stderr",
     "output_type": "stream",
     "text": [
      "                                                                     \r"
     ]
    },
    {
     "name": "stdout",
     "output_type": "stream",
     "text": [
      "Epoch 78/100 | Train Loss: 0.014011 | Val Loss: 0.018895\n"
     ]
    },
    {
     "name": "stderr",
     "output_type": "stream",
     "text": [
      "                                                                     \r"
     ]
    },
    {
     "name": "stdout",
     "output_type": "stream",
     "text": [
      "Epoch 79/100 | Train Loss: 0.013116 | Val Loss: 0.014185\n"
     ]
    },
    {
     "name": "stderr",
     "output_type": "stream",
     "text": [
      "                                                                     \r"
     ]
    },
    {
     "name": "stdout",
     "output_type": "stream",
     "text": [
      "Epoch 80/100 | Train Loss: 0.012984 | Val Loss: 0.015905\n"
     ]
    },
    {
     "name": "stderr",
     "output_type": "stream",
     "text": [
      "                                                                     \r"
     ]
    },
    {
     "name": "stdout",
     "output_type": "stream",
     "text": [
      "Epoch 81/100 | Train Loss: 0.014006 | Val Loss: 0.016464\n"
     ]
    },
    {
     "name": "stderr",
     "output_type": "stream",
     "text": [
      "                                                                     \r"
     ]
    },
    {
     "name": "stdout",
     "output_type": "stream",
     "text": [
      "Epoch 82/100 | Train Loss: 0.013190 | Val Loss: 0.013237\n"
     ]
    },
    {
     "name": "stderr",
     "output_type": "stream",
     "text": [
      "                                                                     \r"
     ]
    },
    {
     "name": "stdout",
     "output_type": "stream",
     "text": [
      "Epoch 83/100 | Train Loss: 0.011539 | Val Loss: 0.013351\n"
     ]
    },
    {
     "name": "stderr",
     "output_type": "stream",
     "text": [
      "                                                                     \r"
     ]
    },
    {
     "name": "stdout",
     "output_type": "stream",
     "text": [
      "Epoch 84/100 | Train Loss: 0.012404 | Val Loss: 0.014253\n"
     ]
    },
    {
     "name": "stderr",
     "output_type": "stream",
     "text": [
      "                                                                     \r"
     ]
    },
    {
     "name": "stdout",
     "output_type": "stream",
     "text": [
      "Epoch 85/100 | Train Loss: 0.011941 | Val Loss: 0.013315\n"
     ]
    },
    {
     "name": "stderr",
     "output_type": "stream",
     "text": [
      "                                                                     \r"
     ]
    },
    {
     "name": "stdout",
     "output_type": "stream",
     "text": [
      "Epoch 86/100 | Train Loss: 0.012510 | Val Loss: 0.012676\n"
     ]
    },
    {
     "name": "stderr",
     "output_type": "stream",
     "text": [
      "                                                                     \r"
     ]
    },
    {
     "name": "stdout",
     "output_type": "stream",
     "text": [
      "Epoch 87/100 | Train Loss: 0.011192 | Val Loss: 0.013986\n"
     ]
    },
    {
     "name": "stderr",
     "output_type": "stream",
     "text": [
      "                                                                     \r"
     ]
    },
    {
     "name": "stdout",
     "output_type": "stream",
     "text": [
      "Epoch 88/100 | Train Loss: 0.012230 | Val Loss: 0.015125\n"
     ]
    },
    {
     "name": "stderr",
     "output_type": "stream",
     "text": [
      "                                                                     \r"
     ]
    },
    {
     "name": "stdout",
     "output_type": "stream",
     "text": [
      "Epoch 89/100 | Train Loss: 0.011434 | Val Loss: 0.015839\n"
     ]
    },
    {
     "name": "stderr",
     "output_type": "stream",
     "text": [
      "                                                                     \r"
     ]
    },
    {
     "name": "stdout",
     "output_type": "stream",
     "text": [
      "Epoch 90/100 | Train Loss: 0.011606 | Val Loss: 0.014269\n"
     ]
    },
    {
     "name": "stderr",
     "output_type": "stream",
     "text": [
      "                                                                     \r"
     ]
    },
    {
     "name": "stdout",
     "output_type": "stream",
     "text": [
      "Epoch 91/100 | Train Loss: 0.011100 | Val Loss: 0.016151\n"
     ]
    },
    {
     "name": "stderr",
     "output_type": "stream",
     "text": [
      "                                                                     \r"
     ]
    },
    {
     "name": "stdout",
     "output_type": "stream",
     "text": [
      "Epoch 92/100 | Train Loss: 0.011934 | Val Loss: 0.012560\n"
     ]
    },
    {
     "name": "stderr",
     "output_type": "stream",
     "text": [
      "                                                                     \r"
     ]
    },
    {
     "name": "stdout",
     "output_type": "stream",
     "text": [
      "Epoch 93/100 | Train Loss: 0.011445 | Val Loss: 0.015488\n"
     ]
    },
    {
     "name": "stderr",
     "output_type": "stream",
     "text": [
      "                                                                     \r"
     ]
    },
    {
     "name": "stdout",
     "output_type": "stream",
     "text": [
      "Epoch 94/100 | Train Loss: 0.012545 | Val Loss: 0.012647\n"
     ]
    },
    {
     "name": "stderr",
     "output_type": "stream",
     "text": [
      "                                                                     \r"
     ]
    },
    {
     "name": "stdout",
     "output_type": "stream",
     "text": [
      "Epoch 95/100 | Train Loss: 0.011882 | Val Loss: 0.013241\n"
     ]
    },
    {
     "name": "stderr",
     "output_type": "stream",
     "text": [
      "                                                                     \r"
     ]
    },
    {
     "name": "stdout",
     "output_type": "stream",
     "text": [
      "Epoch 96/100 | Train Loss: 0.011044 | Val Loss: 0.013728\n"
     ]
    },
    {
     "name": "stderr",
     "output_type": "stream",
     "text": [
      "                                                                     \r"
     ]
    },
    {
     "name": "stdout",
     "output_type": "stream",
     "text": [
      "Epoch 97/100 | Train Loss: 0.011639 | Val Loss: 0.013472\n"
     ]
    },
    {
     "name": "stderr",
     "output_type": "stream",
     "text": [
      "                                                                     \r"
     ]
    },
    {
     "name": "stdout",
     "output_type": "stream",
     "text": [
      "Epoch 98/100 | Train Loss: 0.011661 | Val Loss: 0.014126\n"
     ]
    },
    {
     "name": "stderr",
     "output_type": "stream",
     "text": [
      "                                                                     \r"
     ]
    },
    {
     "name": "stdout",
     "output_type": "stream",
     "text": [
      "Epoch 99/100 | Train Loss: 0.011773 | Val Loss: 0.012234\n"
     ]
    },
    {
     "name": "stderr",
     "output_type": "stream",
     "text": [
      "                                                                      \r"
     ]
    },
    {
     "name": "stdout",
     "output_type": "stream",
     "text": [
      "Epoch 100/100 | Train Loss: 0.011588 | Val Loss: 0.014938\n",
      "\n",
      "--- Training Complete for 'mean' model. Best epoch: 99 (Val Loss: 0.012234) ---\n",
      "\n",
      "--- 6: Displaying Loss Curve Plot for 'mean' model ---\n"
     ]
    },
    {
     "data": {
      "image/png": "[encoded data removed]",
      "text/plain": [
       "<Figure size 1000x600 with 1 Axes>"
      ]
     },
     "metadata": {},
     "output_type": "display_data"
    },
    {
     "name": "stdout",
     "output_type": "stream",
     "text": [
      "\n",
      "--- 7: Evaluating Best 'mean' Model on Test Set ---\n"
     ]
    },
    {
     "name": "stderr",
     "output_type": "stream",
     "text": [
      "Evaluating (mean): 100%|██████████| 16/16 [00:00<00:00, 27.04it/s]\n"
     ]
    },
    {
     "name": "stdout",
     "output_type": "stream",
     "text": [
      "Saved error vs events plot to 'error_vs_events_mean.png'\n",
      "\n",
      "\n",
      "============================== FINAL RESULTS SUMMARY ==============================\n",
      "\n",
      "--- Model Performance on Test Set ---\n",
      "Model                     Mean Angular Error        Median Angular Error     \n",
      "---------------------------------------------------------------------------\n",
      "Deep Sets (Sum)           5.9915 degrees            4.1169 degrees           \n",
      "Deep Sets (Max)           10.1203 degrees           8.4940 degrees           \n",
      "Deep Sets (Mean)          6.5867 degrees            4.8449 degrees           \n",
      "LMMLEM (Baseline)         6.6815                    degrees 0.7193                    degrees\n",
      "==============================================================================\n",
      "\n",
      "--- Detailed Sample Predictions (l, b in degrees) ---\n",
      "\n",
      "----------- Sample 1 -----------\n",
      "  - Ground Truth        : ( 127.16,  21.47)\n",
      "  - LMMLEM Pred         : ( 127.50,  22.50) -> Error: 1.08°\n",
      "  - Deep Sets (Sum)     : ( 122.16,  27.32) -> Error: 7.41°\n",
      "  - Deep Sets (Max)     : ( 129.51,  22.69) -> Error: 2.50°\n",
      "  - Deep Sets (Mean)    : ( 125.43,  25.80) -> Error: 4.61°\n",
      "\n",
      "----------- Sample 2 -----------\n",
      "  - Ground Truth        : ( 359.36,  82.70)\n",
      "  - LMMLEM Pred         : (  51.50,  -7.50) -> Error: 92.99°\n",
      "  - Deep Sets (Sum)     : ( 336.17,  75.71) -> Error: 8.10°\n",
      "  - Deep Sets (Max)     : ( 327.48,  61.26) -> Error: 22.85°\n",
      "  - Deep Sets (Mean)    : ( 301.08,  78.56) -> Error: 9.79°\n",
      "\n",
      "----------- Sample 3 -----------\n",
      "  - Ground Truth        : ( 172.68,  22.10)\n",
      "  - LMMLEM Pred         : ( 175.50,   3.50) -> Error: 18.80°\n",
      "  - Deep Sets (Sum)     : ( 187.28,  25.24) -> Error: 13.73°\n",
      "  - Deep Sets (Max)     : ( 187.97,   7.02) -> Error: 21.09°\n",
      "  - Deep Sets (Mean)    : ( 195.38,  27.20) -> Error: 21.22°\n",
      "\n",
      "----------- Sample 4 -----------\n",
      "  - Ground Truth        : ( 130.78, -65.06)\n",
      "  - LMMLEM Pred         : ( 131.50, -65.50) -> Error: 0.54°\n",
      "  - Deep Sets (Sum)     : ( 132.18, -64.54) -> Error: 0.79°\n",
      "  - Deep Sets (Max)     : ( 151.22, -72.73) -> Error: 10.53°\n",
      "  - Deep Sets (Mean)    : ( 126.12, -67.85) -> Error: 3.35°\n",
      "\n",
      "----------- Sample 5 -----------\n",
      "  - Ground Truth        : (   9.60,  21.14)\n",
      "  - LMMLEM Pred         : (   9.50,  21.50) -> Error: 0.37°\n",
      "  - Deep Sets (Sum)     : (  11.84,  23.68) -> Error: 3.27°\n",
      "  - Deep Sets (Max)     : (  10.31,  25.71) -> Error: 4.61°\n",
      "  - Deep Sets (Mean)    : (  10.44,  21.27) -> Error: 0.79°\n",
      "\n",
      "\n",
      "--- Generating Final Comparison Plot ---\n",
      "\n",
      "Generated final comparison plot and saved as 'error_comparison_all_models.png'\n"
     ]
    },
    {
     "data": {
      "image/png": "[encoded data removed]",
      "text/plain": [
       "<Figure size 1400x800 with 1 Axes>"
      ]
     },
     "metadata": {},
     "output_type": "display_data"
    }
   ],
   "source": [
    "# ===================================================================\n",
    "#                        4. MAIN SCRIPT\n",
    "# ===================================================================\n",
    "\n",
    "if __name__ == '__main__':\n",
    "    # --- Configuration ---\n",
    "    ANGULAR_FEATURE_INDICES = [1, 3, 4] \n",
    "    PHI_HIDDEN_DIMS = [128, 256, 512]\n",
    "    LATENT_DIM = 1024\n",
    "    RHO_HIDDEN_DIMS = [512, 256, 128, 64]\n",
    "    LEARNING_RATE = 1e-4\n",
    "    BATCH_SIZE = 64\n",
    "    EPOCHS = 100\n",
    "    DEVICE = \"cuda:0\" if torch.cuda.is_available() else \"cpu\"\n",
    "    AGGREGATION_TYPES = ['sum', 'max', 'mean']\n",
    "\n",
    "    # --- 1. Load and Preprocess Data ---\n",
    "    print(\"--- 1: Loading and Preprocessing Data ---\")\n",
    "    x_events_raw = np.load(\"./All_Events_SignalBkg5_Deg.npy\", allow_pickle=True)\n",
    "    y_coords = np.load(\"./Ground_Truths.npy\", allow_pickle=True)\n",
    "    y_lon_lat_deg_true = np.array(y_coords[:, 1:3], dtype=np.float32)\n",
    "    y_lon_lat_deg_lmmlem = np.array(y_coords[:, 3:5], dtype=np.float32)\n",
    "    \n",
    "    x_events_transformed = transform_event_features(x_events_raw, ANGULAR_FEATURE_INDICES)\n",
    "    y_cartesian_true = convert_to_cartesian(y_lon_lat_deg_true)\n",
    "    \n",
    "    # --- 2. Create Splits and Fit Scaler ---\n",
    "    print(\"\\n--- 2: Creating Data Splits and Scaler ---\")\n",
    "    x_raw_train_val, x_raw_test, x_train_val, x_test, y_train_val, y_test, y_train_val_lb, y_test_lb, y_lmmlem_train_val, y_lmmlem_test = train_test_split(\n",
    "        x_events_raw, x_events_transformed, y_cartesian_true, y_lon_lat_deg_true, y_lon_lat_deg_lmmlem,\n",
    "        test_size=0.2, random_state=42)\n",
    "    x_raw_train, x_raw_val, x_train, x_val, y_train, y_val, y_train_lb, y_val_lb, y_lmmlem_train, y_lmmlem_val = train_test_split(\n",
    "        x_raw_train_val, x_train_val, y_train_val, y_train_val_lb, y_lmmlem_train_val,\n",
    "        test_size=0.2, random_state=42)\n",
    "    \n",
    "    all_train_events = np.concatenate([events for events in x_train if events.shape[0] > 0])\n",
    "    scaler = StandardScaler()\n",
    "    scaler.fit(all_train_events)\n",
    "    \n",
    "    # --- 3. Create Datasets and DataLoaders ---\n",
    "    print(\"\\n--- 3: Setting up Datasets and DataLoaders ---\")\n",
    "    train_dataset = ComptonDataset(x_train, y_train, scaler)\n",
    "    val_dataset = ComptonDataset(x_val, y_val, scaler)\n",
    "    test_dataset = ComptonDataset(x_test, y_test, scaler)\n",
    "    \n",
    "    train_loader = DataLoader(train_dataset, batch_size=BATCH_SIZE, shuffle=True, collate_fn=collate_fn)\n",
    "    val_loader = DataLoader(val_dataset, batch_size=BATCH_SIZE, shuffle=False, collate_fn=collate_fn)\n",
    "    test_loader = DataLoader(test_dataset, batch_size=BATCH_SIZE, shuffle=False, collate_fn=collate_fn)\n",
    "\n",
    "    all_results = {}\n",
    "\n",
    "    for agg_type in AGGREGATION_TYPES:\n",
    "        print(f\"\\n\\n{'='*25} TRAINING MODEL WITH '{agg_type.upper()}' AGGREGATION {'='*25}\")\n",
    "\n",
    "        # --- 4. Initialize Model ---\n",
    "        print(f\"\\n--- 4: Initializing Model ({agg_type}) and Training Components ---\")\n",
    "        input_dim = all_train_events.shape[1]\n",
    "        model = DeepSet(input_dim=input_dim, phi_hidden_dims=PHI_HIDDEN_DIMS, latent_dim=LATENT_DIM, rho_hidden_dims=RHO_HIDDEN_DIMS, agg_type=agg_type).to(DEVICE)\n",
    "        criterion = nn.CosineEmbeddingLoss()\n",
    "        optimizer = optim.Adam(model.parameters(), lr=LEARNING_RATE)\n",
    "        print(f\"Using device: {DEVICE}\")\n",
    "        \n",
    "        # --- 5. Training Loop with Validation ---\n",
    "        print(\"\\n--- 5: Starting Training with Validation ---\")\n",
    "        train_losses, val_losses = [], []\n",
    "        best_val_loss, best_epoch, best_model_state_dict = float('inf'), -1, None\n",
    "        \n",
    "        for epoch in range(EPOCHS):\n",
    "            # --- Training Phase ---\n",
    "            model.train()\n",
    "            running_train_loss = 0.0\n",
    "            # Use leave=False for a cleaner output\n",
    "            for events_list, targets in tqdm(train_loader, desc=f\"Epoch {epoch+1}/{EPOCHS} [Train]\", leave=False):\n",
    "                events_list, targets = [e.to(DEVICE) for e in events_list], targets.to(DEVICE)\n",
    "                optimizer.zero_grad()\n",
    "                outputs = model(events_list)\n",
    "                loss = criterion(outputs, targets, torch.ones(outputs.shape[0]).to(DEVICE))\n",
    "                loss.backward()\n",
    "                optimizer.step()\n",
    "                running_train_loss += loss.item()\n",
    "            epoch_train_loss = running_train_loss / len(train_loader)\n",
    "            train_losses.append(epoch_train_loss)\n",
    "            \n",
    "            # --- Validation Phase ---\n",
    "            model.eval()\n",
    "            running_val_loss = 0.0\n",
    "            with torch.no_grad():\n",
    "                # Use leave=False for a cleaner output\n",
    "                for events_list, targets in tqdm(val_loader, desc=f\"Epoch {epoch+1}/{EPOCHS} [Val]  \", leave=False):\n",
    "                    events_list, targets = [e.to(DEVICE) for e in events_list], targets.to(DEVICE)\n",
    "                    outputs = model(events_list)\n",
    "                    loss = criterion(outputs, targets, torch.ones(outputs.shape[0]).to(DEVICE))\n",
    "                    running_val_loss += loss.item()\n",
    "            epoch_val_loss = running_val_loss / len(val_loader)\n",
    "            val_losses.append(epoch_val_loss)\n",
    "\n",
    "            # --- Print Epoch Results on a Single Line ---\n",
    "            print(f\"Epoch {epoch+1}/{EPOCHS} | Train Loss: {epoch_train_loss:.6f} | Val Loss: {epoch_val_loss:.6f}\")\n",
    "\n",
    "            # --- Check for Best Model ---\n",
    "            if epoch_val_loss < best_val_loss:\n",
    "                best_val_loss, best_epoch, best_model_state_dict = epoch_val_loss, epoch + 1, copy.deepcopy(model.state_dict())\n",
    "        \n",
    "        print(f\"\\n--- Training Complete for '{agg_type}' model. Best epoch: {best_epoch} (Val Loss: {best_val_loss:.6f}) ---\")\n",
    "\n",
    "        # --- 6. Plot Loss Curves Directly ---\n",
    "        print(f\"\\n--- 6: Displaying Loss Curve Plot for '{agg_type}' model ---\")\n",
    "        plt.figure(figsize=(10, 6))\n",
    "        plt.plot(range(1, EPOCHS + 1), train_losses, label='Training Loss')\n",
    "        plt.plot(range(1, EPOCHS + 1), val_losses, label='Validation Loss')\n",
    "        plt.axvline(x=best_epoch, linestyle='--', color='green', label=f'Best Model (Epoch {best_epoch})')\n",
    "        plt.title(f'Loss Curve for Deep Set ({agg_type.capitalize()} Aggregation)', fontsize=16)\n",
    "        plt.xlabel('Epoch'), plt.ylabel('Cosine Embedding Loss'), plt.legend(), plt.grid(True)\n",
    "        plt.show() # This will display the plot and pause execution until it's closed\n",
    "\n",
    "        # --- 7. Evaluation on Test Set ---\n",
    "        print(f\"\\n--- 7: Evaluating Best '{agg_type}' Model on Test Set ---\")\n",
    "        if best_model_state_dict: model.load_state_dict(best_model_state_dict)\n",
    "        model.eval()\n",
    "        all_preds_cart, all_targets_cart = [], []\n",
    "        with torch.no_grad():\n",
    "            for events_list, targets in tqdm(test_loader, desc=f\"Evaluating ({agg_type})\"):\n",
    "                events_list = [e.to(DEVICE) for e in events_list]\n",
    "                all_preds_cart.append(model(events_list).cpu().numpy())\n",
    "                all_targets_cart.append(targets.cpu().numpy())\n",
    "        y_pred_cart_deepset = np.concatenate(all_preds_cart)\n",
    "        y_true_cart_eval = np.concatenate(all_targets_cart)\n",
    "        angular_errors_deepset = calculate_angular_error(y_true_cart_eval, y_pred_cart_deepset)\n",
    "\n",
    "        all_results[agg_type] = {\n",
    "            'predictions_cart': y_pred_cart_deepset,\n",
    "            'errors': angular_errors_deepset,\n",
    "            'mean_error': np.mean(angular_errors_deepset),\n",
    "            'median_error': np.median(angular_errors_deepset)\n",
    "        }\n",
    "        \n",
    "        # --- 8. Error vs Events Plot (Saved for later) ---\n",
    "        test_event_counts = [len(events) for events in x_raw_test]\n",
    "        y_pred_cart_lmmlem = convert_to_cartesian(y_lmmlem_test)\n",
    "        angular_errors_lmmlem = calculate_angular_error(y_true_cart_eval, y_pred_cart_lmmlem)\n",
    "        plt.figure(figsize=(12, 7))\n",
    "        plt.scatter(test_event_counts, angular_errors_lmmlem, alpha=0.5, s=20, label='LMMLEM Error', c='orangered')\n",
    "        plt.scatter(test_event_counts, angular_errors_deepset, alpha=0.5, s=20, label=f'Deep Sets ({agg_type.capitalize()}) Error', c='dodgerblue')\n",
    "        plt.title(f'Model Error vs. Events ({agg_type.capitalize()} Aggregation)', fontsize=16)\n",
    "        plt.xlabel('Number of Events'), plt.ylabel('Angular Error (degrees)'), plt.xscale('log'), plt.legend(), plt.grid(True, which='both', linestyle='--')\n",
    "        plt.savefig(f\"error_vs_events_{agg_type}_100.png\")\n",
    "        plt.close() # Close figure to avoid displaying it now\n",
    "        print(f\"Saved error vs events plot to 'error_vs_events_{agg_type}.png'\")\n",
    "\n",
    "\n",
    "    # ===================================================================\n",
    "    #              9. FINAL SUMMARY AND COMPARISONS\n",
    "    # ===================================================================\n",
    "    print(\"\\n\\n\" + \"=\"*30 + \" FINAL RESULTS SUMMARY \" + \"=\"*30)\n",
    "    \n",
    "    # --- Print Summary Table ---\n",
    "    print(\"\\n--- Model Performance on Test Set ---\")\n",
    "    print(f\"{'Model':<25} {'Mean Angular Error':<25} {'Median Angular Error':<25}\")\n",
    "    print(\"-\" * 75)\n",
    "    for agg_type, results in all_results.items():\n",
    "        model_name = f\"Deep Sets ({agg_type.capitalize()})\"\n",
    "        mean_err = f\"{results['mean_error']:.4f} degrees\"\n",
    "        median_err = f\"{results['median_error']:.4f} degrees\"\n",
    "        print(f\"{model_name:<25} {mean_err:<25} {median_err:<25}\")\n",
    "    mean_err_lmmlem, median_err_lmmlem = np.mean(angular_errors_lmmlem), np.median(angular_errors_lmmlem)\n",
    "    print(f\"{'LMMLEM (Baseline)':<25} {mean_err_lmmlem:<25.4f} degrees {median_err_lmmlem:<25.4f} degrees\")\n",
    "    print(\"=\" * 78)\n",
    "\n",
    "    # --- Print Detailed Sample Predictions ---\n",
    "    print(\"\\n--- Detailed Sample Predictions (l, b in degrees) ---\")\n",
    "    predictions_lb_all_models = {\n",
    "        agg: convert_cartesian_to_lon_lat(res['predictions_cart']) for agg, res in all_results.items()\n",
    "    }\n",
    "    num_samples_to_show = min(5, len(y_test_lb))\n",
    "    for i in range(num_samples_to_show):\n",
    "        print(f\"\\n----------- Sample {i+1} -----------\")\n",
    "        true_l, true_b = y_test_lb[i]\n",
    "        print(f\"  - {'Ground Truth':<20}: ({true_l:7.2f}, {true_b:6.2f})\")\n",
    "        \n",
    "        lmmlem_l, lmmlem_b = y_lmmlem_test[i]\n",
    "        lmmlem_err = angular_errors_lmmlem[i]\n",
    "        print(f\"  - {'LMMLEM Pred':<20}: ({lmmlem_l:7.2f}, {lmmlem_b:6.2f}) -> Error: {lmmlem_err:.2f}°\")\n",
    "        \n",
    "        for agg_type in AGGREGATION_TYPES:\n",
    "            deepset_l, deepset_b = predictions_lb_all_models[agg_type][i]\n",
    "            deepset_err = all_results[agg_type]['errors'][i]\n",
    "            model_name_str = f\"Deep Sets ({agg_type.capitalize()})\"\n",
    "            print(f\"  - {model_name_str:<20}: ({deepset_l:7.2f}, {deepset_b:6.2f}) -> Error: {deepset_err:.2f}°\")\n",
    "\n",
    "    # --- Create and Display Final Comparison Plot ---\n",
    "    print(\"\\n\\n--- Generating Final Comparison Plot ---\")\n",
    "    plt.figure(figsize=(14, 8))\n",
    "    colors = {'sum': 'dodgerblue', 'max': 'seagreen', 'mean': 'darkviolet'}\n",
    "    plt.scatter(test_event_counts, angular_errors_lmmlem, alpha=0.4, s=20, label='LMMLEM Error', c='orangered')\n",
    "    for agg_type, results in all_results.items():\n",
    "        plt.scatter(test_event_counts, results['errors'], alpha=0.6, s=20, \n",
    "                    label=f\"Deep Sets ({agg_type.capitalize()}) | Median: {results['median_error']:.2f}°\", \n",
    "                    c=colors[agg_type])\n",
    "    plt.title('All Models: Angular Error vs. Number of Events', fontsize=16)\n",
    "    plt.xlabel('Number of Events in Source (Signal Strength)'), plt.ylabel('Angular Error (degrees)'), plt.xscale('log')\n",
    "    plt.legend(fontsize=11), plt.grid(True, which='both', linestyle='--', linewidth=0.5), plt.tight_layout()\n",
    "    plt.savefig(\"error_comparison_all_models_100.png\")\n",
    "    print(\"\\nGenerated final comparison plot and saved as 'error_comparison_all_models.png'\")\n",
    "    plt.show()"
   ]
  },
  {
   "cell_type": "code",
   "execution_count": 6,
   "id": "390ce450-bade-48cd-92fe-1f2a706a762e",
   "metadata": {},
   "outputs": [
    {
     "data": {
      "text/plain": [
       "(10627698, 8)"
      ]
     },
     "execution_count": 6,
     "metadata": {},
     "output_type": "execute_result"
    }
   ],
   "source": [
    "all_train_events.shape"
   ]
  },
  {
   "cell_type": "code",
   "execution_count": 7,
   "id": "d5eb0df4-5e36-4e27-bc71-bc42b3475fff",
   "metadata": {
    "tags": []
   },
   "outputs": [
    {
     "name": "stdout",
     "output_type": "stream",
     "text": [
      "0.0\n",
      "135.65108\n"
     ]
    }
   ],
   "source": [
    "print(min(angular_errors_lmmlem))\n",
    "print(max(angular_errors_lmmlem))"
   ]
  },
  {
   "cell_type": "code",
   "execution_count": 8,
   "id": "d7f37078-6d23-429c-8505-f544fa504799",
   "metadata": {
    "tags": []
   },
   "outputs": [
    {
     "name": "stdout",
     "output_type": "stream",
     "text": [
      "0.07912937\n",
      "43.608093\n"
     ]
    }
   ],
   "source": [
    "print(min(angular_errors_deepset))\n",
    "print(max(angular_errors_deepset))"
   ]
  },
  {
   "cell_type": "code",
   "execution_count": 13,
   "id": "d78e45cb-c74c-4d28-9f86-73e9a4872965",
   "metadata": {
    "tags": []
   },
   "outputs": [
    {
     "data": {
      "text/plain": [
       "(4993, 2)"
      ]
     },
     "execution_count": 13,
     "metadata": {},
     "output_type": "execute_result"
    }
   ],
   "source": [
    "y_lon_lat_deg_true.shape"
   ]
  },
  {
   "cell_type": "code",
   "execution_count": 14,
   "id": "17e9602d-b31b-401e-bec8-8940201d380a",
   "metadata": {
    "tags": []
   },
   "outputs": [
    {
     "data": {
      "text/plain": [
       "(999, 2)"
      ]
     },
     "execution_count": 14,
     "metadata": {},
     "output_type": "execute_result"
    }
   ],
   "source": [
    "y_lmmlem_test.shape"
   ]
  },
  {
   "cell_type": "code",
   "execution_count": 15,
   "id": "f99f44e7-eff0-43d9-a90d-9f2710d19f9d",
   "metadata": {
    "tags": []
   },
   "outputs": [
    {
     "data": {
      "text/plain": [
       "(999, 2)"
      ]
     },
     "execution_count": 15,
     "metadata": {},
     "output_type": "execute_result"
    }
   ],
   "source": [
    "y_test_lb.shape"
   ]
  },
  {
   "cell_type": "code",
   "execution_count": 17,
   "id": "31167a2e-de68-42e1-948d-02c7d5b6c7f6",
   "metadata": {
    "tags": []
   },
   "outputs": [
    {
     "data": {
      "text/plain": [
       "(999, 2)"
      ]
     },
     "execution_count": 17,
     "metadata": {},
     "output_type": "execute_result"
    }
   ],
   "source": [
    "predictions_lb_all_models['sum'].shape"
   ]
  },
  {
   "cell_type": "code",
   "execution_count": 29,
   "id": "686902ad-ae05-47cd-af36-2c394dff70cb",
   "metadata": {},
   "outputs": [
    {
     "data": {
      "image/png": "[encoded data removed]",
      "text/plain": [
       "<Figure size 850x540 with 2 Axes>"
      ]
     },
     "metadata": {},
     "output_type": "display_data"
    }
   ],
   "source": [
    "import healpy as hp\n",
    "import matplotlib.pyplot as plt\n",
    "\n",
    "# `healpy.visufunc` doesn't natively support graticule labels\n",
    "# `healpy.newvisufunc` can plot graticule labels, but it's still an experimenting functionality (20241118), so it's better to use `healpy.visufunc` for now\n",
    "# produce mock WMAP-like map\n",
    "nside = 64  # Set to 64 for simplicity; higher values give finer resolution\n",
    "npix = hp.nside2npix(nside)\n",
    "\n",
    "# Create synthetic WMAP-like data\n",
    "# Example: Use a sine gradient for Galactic latitude with random noise\n",
    "l, b = hp.pix2ang(nside, np.arange(npix), lonlat=True)  # Longitude (l), Latitude (b)\n",
    "data = np.sin(np.radians(b)) + 0.1 * np.random.randn(npix)  # Gradient + Noise\n",
    "\n",
    "# Smooth the data to mimic WMAP features (optional)\n",
    "data_smoothed = hp.smoothing(data, sigma=np.radians(2.0))  # 2-degree smoothing\n",
    "\n",
    "# plot the healpy map\n",
    "hp.mollview(data_smoothed, unit=\"Temperature (K)\", cmap=\"coolwarm\", coord = \"G\")\n",
    "hp.graticule(coord = \"G\")\n",
    "\n",
    "# The labels of graticule to plot\n",
    "latitudes = np.arange(-90, 91, 30)  # Latitude labels in degrees\n",
    "longitudes = np.arange(0, 359, 30)  # Longitude labels in degrees\n",
    "\n",
    "# Loop through and place the labels on the plot\n",
    "for lat in latitudes:\n",
    "    hp.projtext(175, lat, f\"{lat}°\", lonlat=True, color=\"magenta\", fontsize=10,\n",
    "                horizontalalignment = \"right\", verticalalignment = \"bottom\")\n",
    "\n",
    "for lon in longitudes:\n",
    "    hp.projtext(lon, -5, f\"{lon}°\", lonlat=True, color=\"magenta\", fontsize=10)\n",
    "\n",
    "# hp.projscatter(\n",
    "#     120, 30,\n",
    "#     lonlat=True,\n",
    "#     color=\"green\",\n",
    "#     s=120,\n",
    "#     marker=\"*\",\n",
    "#     coord=\"G\"\n",
    "# )\n",
    "\n",
    "# y_test_lb = [239.78, 34.987]\n",
    "\n",
    "hp.projscatter(y_test_lb[1][0], y_test_lb[1][1],\n",
    "               lonlat=True, color=\"green\", s=20, marker=\"*\", coord=\"G\", label='True')\n",
    "\n",
    "hp.projscatter(y_lmmlem_test[1][0], y_lmmlem_test[1][1],\n",
    "               lonlat=True, color=\"blue\", s=20, marker=\"*\", coord=\"G\", label='LMMLEM')\n",
    "\n",
    "hp.projscatter(predictions_lb_all_models['sum'][1][0], predictions_lb_all_models['sum'][1][1],\n",
    "               lonlat=True, color=\"black\", s=20, marker=\"*\", coord=\"G\", label='Deep Sets (Sum)')\n",
    "\n",
    "hp.projscatter(predictions_lb_all_models['max'][1][0], predictions_lb_all_models['max'][1][1],\n",
    "               lonlat=True, color=\"yellow\", s=20, marker=\"*\", coord=\"G\", label='Deep Sets (Max)')\n",
    "\n",
    "hp.projscatter(predictions_lb_all_models['mean'][1][0], predictions_lb_all_models['mean'][1][1],\n",
    "               lonlat=True, color=\"orange\", s=20, marker=\"*\", coord=\"G\", label='Deep Sets (Mean)')\n",
    "\n",
    "fig = plt.gcf()\n",
    "ax = plt.gca()\n",
    "plt.legend(loc=\"upper right\", fontsize=10)  # choose loc as you like\n",
    "# control the position of the titile, so it won't overlap the 90 deg latitude label\n",
    "ax.set_title(\"Fake WMAP All-Sky Map (Galactic Coordinates)\", fontsize=14, y=1.05)\n",
    "# Save the figure\n",
    "plt.savefig(\"wmap_sample_map_100.png\", dpi=300, bbox_inches=\"tight\")\n",
    "\n",
    "# Optional: Show the figure\n",
    "plt.show()\n"
   ]
  },
  {
   "cell_type": "code",
   "execution_count": null,
   "id": "78db4e60-2967-4f9a-b3e5-ff0dda2f02cf",
   "metadata": {},
   "outputs": [],
   "source": []
  }
 ],
 "metadata": {
  "kernelspec": {
   "display_name": "Python 3 (ipykernel)",
   "language": "python",
   "name": "python3"
  },
  "language_info": {
   "codemirror_mode": {
    "name": "ipython",
    "version": 3
   },
   "file_extension": ".py",
   "mimetype": "text/x-python",
   "name": "python",
   "nbconvert_exporter": "python",
   "pygments_lexer": "ipython3",
   "version": "3.11.5"
  }
 },
 "nbformat": 4,
 "nbformat_minor": 5
}
